{
  "nbformat": 4,
  "nbformat_minor": 0,
  "metadata": {
    "colab": {
      "name": "Numpy Arrays Cheat Sheet.ipynb",
      "version": "0.3.2",
      "provenance": [],
      "include_colab_link": true
    },
    "kernelspec": {
      "name": "python3",
      "display_name": "Python 3"
    }
  },
  "cells": [
    {
      "cell_type": "markdown",
      "metadata": {
        "id": "view-in-github",
        "colab_type": "text"
      },
      "source": [
        "<a href=\"https://colab.research.google.com/github/boscoybarra/algebra-basics-with-numpy-cheat-sheet/blob/master/Numpy_Arrays_Cheat_Sheet.ipynb\" target=\"_parent\"><img src=\"https://colab.research.google.com/assets/colab-badge.svg\" alt=\"Open In Colab\"/></a>"
      ]
    },
    {
      "metadata": {
        "id": "IDvG8LfmJg-F",
        "colab_type": "code",
        "colab": {}
      },
      "cell_type": "code",
      "source": [
        "from numpy import array\n"
      ],
      "execution_count": 0,
      "outputs": []
    },
    {
      "metadata": {
        "id": "KRgYKrkGJ8fX",
        "colab_type": "code",
        "colab": {}
      },
      "cell_type": "code",
      "source": [
        "# create array\n",
        "l = [1.0, 2.0, 3.0]\n",
        "a = array(l)"
      ],
      "execution_count": 0,
      "outputs": []
    },
    {
      "metadata": {
        "id": "el2c3gztJ_TN",
        "colab_type": "code",
        "outputId": "d126fde9-5572-48d3-a82b-1fef74476490",
        "colab": {
          "base_uri": "https://localhost:8080/",
          "height": 34
        }
      },
      "cell_type": "code",
      "source": [
        "# display array\n",
        "print(a)"
      ],
      "execution_count": 0,
      "outputs": [
        {
          "output_type": "stream",
          "text": [
            "[1. 2. 3.]\n"
          ],
          "name": "stdout"
        }
      ]
    },
    {
      "metadata": {
        "id": "Zplct6qCKC8F",
        "colab_type": "code",
        "outputId": "e11e1227-23ad-488d-9a5a-5a2a5655d933",
        "colab": {
          "base_uri": "https://localhost:8080/",
          "height": 34
        }
      },
      "cell_type": "code",
      "source": [
        "# display array shape\n",
        "print(a.shape)"
      ],
      "execution_count": 0,
      "outputs": [
        {
          "output_type": "stream",
          "text": [
            "(3,)\n"
          ],
          "name": "stdout"
        }
      ]
    },
    {
      "metadata": {
        "id": "ANT76qvCKD99",
        "colab_type": "code",
        "outputId": "b3ff8fe0-3e3e-4ba9-d3fd-da6d55564e3a",
        "colab": {
          "base_uri": "https://localhost:8080/",
          "height": 34
        }
      },
      "cell_type": "code",
      "source": [
        "# display array data type\n",
        "print(a.dtype)"
      ],
      "execution_count": 0,
      "outputs": [
        {
          "output_type": "stream",
          "text": [
            "float64\n"
          ],
          "name": "stdout"
        }
      ]
    },
    {
      "metadata": {
        "id": "7PLCJo-jKEVE",
        "colab_type": "code",
        "outputId": "6567a59b-6f40-43f0-c882-50d1cb75d268",
        "colab": {
          "base_uri": "https://localhost:8080/",
          "height": 68
        }
      },
      "cell_type": "code",
      "source": [
        "# create empty array\n",
        "from numpy import empty\n",
        "a = empty([3,3])\n",
        "print(a)"
      ],
      "execution_count": 0,
      "outputs": [
        {
          "output_type": "stream",
          "text": [
            "[[3.60814402e-316 1.09802054e-311 7.51470620e+199]\n",
            " [6.67771196e+151 6.01737305e+175 7.28577035e+199]\n",
            " [3.42134197e+180 3.38461351e+125 4.99809053e+228]]\n"
          ],
          "name": "stdout"
        }
      ]
    },
    {
      "metadata": {
        "id": "HS_GyvA_KXJi",
        "colab_type": "code",
        "outputId": "c7789c69-ee7c-4e28-c13e-a57d447a7bd1",
        "colab": {
          "base_uri": "https://localhost:8080/",
          "height": 68
        }
      },
      "cell_type": "code",
      "source": [
        "# create zero array\n",
        "from numpy import zeros\n",
        "a = zeros([3,5])\n",
        "print(a)"
      ],
      "execution_count": 0,
      "outputs": [
        {
          "output_type": "stream",
          "text": [
            "[[0. 0. 0. 0. 0.]\n",
            " [0. 0. 0. 0. 0.]\n",
            " [0. 0. 0. 0. 0.]]\n"
          ],
          "name": "stdout"
        }
      ]
    },
    {
      "metadata": {
        "id": "PPW0mLbOKdbi",
        "colab_type": "code",
        "outputId": "ba1c63df-791c-44e0-dd73-e7d4751ccd1a",
        "colab": {
          "base_uri": "https://localhost:8080/",
          "height": 34
        }
      },
      "cell_type": "code",
      "source": [
        "# create one array\n",
        "from numpy import ones\n",
        "a = ones([5])\n",
        "print(a)"
      ],
      "execution_count": 0,
      "outputs": [
        {
          "output_type": "stream",
          "text": [
            "[1. 1. 1. 1. 1.]\n"
          ],
          "name": "stdout"
        }
      ]
    },
    {
      "metadata": {
        "id": "_ZszcpoHK03h",
        "colab_type": "text"
      },
      "cell_type": "markdown",
      "source": [
        "##Combining Arrays"
      ]
    },
    {
      "metadata": {
        "id": "7E0pfDYhKeuU",
        "colab_type": "code",
        "outputId": "9289cae2-bf9d-4073-e709-6807596b6070",
        "colab": {
          "base_uri": "https://localhost:8080/",
          "height": 102
        }
      },
      "cell_type": "code",
      "source": [
        "# create array with vstack\n",
        "from numpy import array\n",
        "from numpy import vstack\n",
        "# create first array\n",
        "a1 = array([1,2,3])\n",
        "print(a1)\n",
        "# create second array\n",
        "a2 = array([4,5,6])\n",
        "print(a2)\n",
        "# vertical stack\n",
        "a3 = vstack((a1, a2))\n",
        "print(a3)\n",
        "print(a3.shape)"
      ],
      "execution_count": 0,
      "outputs": [
        {
          "output_type": "stream",
          "text": [
            "[1 2 3]\n",
            "[4 5 6]\n",
            "[[1 2 3]\n",
            " [4 5 6]]\n",
            "(2, 3)\n"
          ],
          "name": "stdout"
        }
      ]
    },
    {
      "metadata": {
        "id": "QxyoYiBGLClU",
        "colab_type": "code",
        "outputId": "28a1751b-3d7d-468d-b69f-fdbf88c46296",
        "colab": {
          "base_uri": "https://localhost:8080/",
          "height": 85
        }
      },
      "cell_type": "code",
      "source": [
        "# create array with hstack\n",
        "from numpy import array\n",
        "from numpy import hstack\n",
        "# create first array\n",
        "a1 = array([1,2,3])\n",
        "print(a1)\n",
        "# create second array\n",
        "a2 = array([4,5,6])\n",
        "print(a2)\n",
        "# create horizontal stack\n",
        "a3 = hstack((a1, a2))\n",
        "print(a3)\n",
        "print(a3.shape)"
      ],
      "execution_count": 0,
      "outputs": [
        {
          "output_type": "stream",
          "text": [
            "[1 2 3]\n",
            "[4 5 6]\n",
            "[1 2 3 4 5 6]\n",
            "(6,)\n"
          ],
          "name": "stdout"
        }
      ]
    },
    {
      "metadata": {
        "id": "CmM-JiOALKZC",
        "colab_type": "code",
        "colab": {}
      },
      "cell_type": "code",
      "source": [
        "b1 = array([7,8,9])\n",
        "b2 = array([10,11,12])"
      ],
      "execution_count": 0,
      "outputs": []
    },
    {
      "metadata": {
        "id": "2R8MezKlLpbf",
        "colab_type": "code",
        "outputId": "06dfaaf8-bea0-4023-bc85-091b9a092493",
        "colab": {
          "base_uri": "https://localhost:8080/",
          "height": 51
        }
      },
      "cell_type": "code",
      "source": [
        "b3 = vstack((b1, b2))\n",
        "print(b3)"
      ],
      "execution_count": 0,
      "outputs": [
        {
          "output_type": "stream",
          "text": [
            "[[ 7  8  9]\n",
            " [10 11 12]]\n"
          ],
          "name": "stdout"
        }
      ]
    },
    {
      "metadata": {
        "id": "so3t0lpIMA_g",
        "colab_type": "code",
        "outputId": "ac8595cd-96c7-4143-9df9-b18d178b5c97",
        "colab": {
          "base_uri": "https://localhost:8080/",
          "height": 51
        }
      },
      "cell_type": "code",
      "source": [
        "print(a2.shape)\n",
        "print(b3.shape)"
      ],
      "execution_count": 0,
      "outputs": [
        {
          "output_type": "stream",
          "text": [
            "(3,)\n",
            "(2, 3)\n"
          ],
          "name": "stdout"
        }
      ]
    },
    {
      "metadata": {
        "id": "6HE3GihBLuO3",
        "colab_type": "code",
        "outputId": "ac5fb69f-23c2-4f5a-ee6a-579bf6a206b5",
        "colab": {
          "base_uri": "https://localhost:8080/",
          "height": 68
        }
      },
      "cell_type": "code",
      "source": [
        "\n",
        "from numpy import transpose\n",
        "transpose(a2)\n",
        "print(b3)\n",
        "print(a2)"
      ],
      "execution_count": 0,
      "outputs": [
        {
          "output_type": "stream",
          "text": [
            "[[ 7  8  9]\n",
            " [10 11 12]]\n",
            "[4 5 6]\n"
          ],
          "name": "stdout"
        }
      ]
    },
    {
      "metadata": {
        "id": "2b5mpQ4NNm7a",
        "colab_type": "text"
      },
      "cell_type": "markdown",
      "source": [
        "## Array Indexing"
      ]
    },
    {
      "metadata": {
        "id": "wzW3Eh2CL8Sr",
        "colab_type": "code",
        "outputId": "619b76ad-d101-43c1-dde4-5303e64b608f",
        "colab": {
          "base_uri": "https://localhost:8080/",
          "height": 51
        }
      },
      "cell_type": "code",
      "source": [
        "# negative array indexing\n",
        "from numpy import array\n",
        "# define array\n",
        "data = array([11, 22, 33, 44, 55])\n",
        "# index data\n",
        "print(data[-1])\n",
        "print(data[-5])"
      ],
      "execution_count": 0,
      "outputs": [
        {
          "output_type": "stream",
          "text": [
            "55\n",
            "11\n"
          ],
          "name": "stdout"
        }
      ]
    },
    {
      "metadata": {
        "id": "MRFH-aNUNwGl",
        "colab_type": "code",
        "outputId": "6e82454b-62ff-403a-e385-6a84dc01d85d",
        "colab": {
          "base_uri": "https://localhost:8080/",
          "height": 34
        }
      },
      "cell_type": "code",
      "source": [
        "# index two-dimensional array\n",
        "from numpy import array\n",
        "# define array\n",
        "data = array([\n",
        "  [11, 22],\n",
        "  [33, 44],\n",
        "  [55, 66]])\n",
        "# index data\n",
        "print(data[0,0])"
      ],
      "execution_count": 0,
      "outputs": [
        {
          "output_type": "stream",
          "text": [
            "11\n"
          ],
          "name": "stdout"
        }
      ]
    },
    {
      "metadata": {
        "id": "-g--bmVsOH-x",
        "colab_type": "code",
        "outputId": "2992ff3b-b42b-4797-f1b2-d0873cda2752",
        "colab": {
          "base_uri": "https://localhost:8080/",
          "height": 34
        }
      },
      "cell_type": "code",
      "source": [
        "# index row of two-dimensional array\n",
        "from numpy import array\n",
        "# define array\n",
        "data = array([\n",
        "  [11, 22],\n",
        "  [33, 44],\n",
        "  [55, 66]])\n",
        "# index data\n",
        "print(data[0,])"
      ],
      "execution_count": 0,
      "outputs": [
        {
          "output_type": "stream",
          "text": [
            "[11 22]\n"
          ],
          "name": "stdout"
        }
      ]
    },
    {
      "metadata": {
        "id": "Gazqh8rkOY2-",
        "colab_type": "text"
      },
      "cell_type": "markdown",
      "source": [
        "## Array Slicing\n",
        "\n",
        "data[from:to]"
      ]
    },
    {
      "metadata": {
        "id": "bbMHwPMbORrp",
        "colab_type": "code",
        "outputId": "b513d4b7-d9cb-4b7a-cb96-54777a435c50",
        "colab": {
          "base_uri": "https://localhost:8080/",
          "height": 34
        }
      },
      "cell_type": "code",
      "source": [
        "# slice a one-dimensional array\n",
        "from numpy import array\n",
        "# define array\n",
        "data = array([11, 22, 33, 44, 55])\n",
        "print(data[1:])"
      ],
      "execution_count": 0,
      "outputs": [
        {
          "output_type": "stream",
          "text": [
            "[22 33 44 55]\n"
          ],
          "name": "stdout"
        }
      ]
    },
    {
      "metadata": {
        "id": "aJl1dD0SOpWu",
        "colab_type": "code",
        "outputId": "57a59a91-92ba-43cf-d383-5dec439f4d7e",
        "colab": {
          "base_uri": "https://localhost:8080/",
          "height": 34
        }
      },
      "cell_type": "code",
      "source": [
        "# slice a subset of a one-dimensional array\n",
        "from numpy import array\n",
        "# define array\n",
        "data = array([11, 22, 33, 44, 55])\n",
        "print(data[0:1])"
      ],
      "execution_count": 0,
      "outputs": [
        {
          "output_type": "stream",
          "text": [
            "[11]\n"
          ],
          "name": "stdout"
        }
      ]
    },
    {
      "metadata": {
        "id": "g9BM7AbWOrTE",
        "colab_type": "code",
        "outputId": "a50a3973-5ec2-4b3c-9f93-79a2bc3ee6b4",
        "colab": {
          "base_uri": "https://localhost:8080/",
          "height": 34
        }
      },
      "cell_type": "code",
      "source": [
        "# negative slicing of a one-dimensional array\n",
        "from numpy import array\n",
        "# define array\n",
        "data = array([11, 22, 33, 44, 55])\n",
        "print(data[-2:])"
      ],
      "execution_count": 0,
      "outputs": [
        {
          "output_type": "stream",
          "text": [
            "[44 55]\n"
          ],
          "name": "stdout"
        }
      ]
    },
    {
      "metadata": {
        "id": "ThsGf9jXO8j-",
        "colab_type": "text"
      },
      "cell_type": "markdown",
      "source": [
        "## Two-Dimensional Slicing"
      ]
    },
    {
      "metadata": {
        "id": "cl9PG_MtOy9G",
        "colab_type": "code",
        "outputId": "577aa7c5-f4f6-4484-827b-79d8e4c0a7ae",
        "colab": {
          "base_uri": "https://localhost:8080/",
          "height": 130
        }
      },
      "cell_type": "code",
      "source": [
        ""
      ],
      "execution_count": 0,
      "outputs": [
        {
          "output_type": "error",
          "ename": "SyntaxError",
          "evalue": "ignored",
          "traceback": [
            "\u001b[0;36m  File \u001b[0;32m\"<ipython-input-39-e9f37c783128>\"\u001b[0;36m, line \u001b[0;32m1\u001b[0m\n\u001b[0;31m    X = [:, :-1]\u001b[0m\n\u001b[0m         ^\u001b[0m\n\u001b[0;31mSyntaxError\u001b[0m\u001b[0;31m:\u001b[0m invalid syntax\n"
          ]
        }
      ]
    },
    {
      "metadata": {
        "id": "hS3zoy1UQWIy",
        "colab_type": "text"
      },
      "cell_type": "markdown",
      "source": [
        "X = [:, :-1]\n",
        "    [#row , #column]"
      ]
    },
    {
      "metadata": {
        "id": "sIee7I_gP1t9",
        "colab_type": "code",
        "outputId": "a6f31f9e-b351-49e8-b908-d7134639b651",
        "colab": {
          "base_uri": "https://localhost:8080/",
          "height": 102
        }
      },
      "cell_type": "code",
      "source": [
        "# split input and output data\n",
        "from numpy import array\n",
        "# define array\n",
        "data = array([\n",
        "  [11, 22, 33],\n",
        "  [44, 55, 66],\n",
        "  [77, 88, 99]])\n",
        "# separate data\n",
        "#For the input \"X\" features, we can select all rows and all columns except the last one by specifying : for in the rows index, and :-1 in the columns index.\n",
        "X, y = data[:, :-2], data[:, -1] #For the output \"y\" column, we can select all rows again using : and index just the last column by specifying the -1 index.\n",
        "print(data.shape)\n",
        "print(X)\n",
        "print(y)"
      ],
      "execution_count": 0,
      "outputs": [
        {
          "output_type": "stream",
          "text": [
            "(3, 3)\n",
            "[[11]\n",
            " [44]\n",
            " [77]]\n",
            "[33 66 99]\n"
          ],
          "name": "stdout"
        }
      ]
    },
    {
      "metadata": {
        "id": "hOejPk3hSLLc",
        "colab_type": "text"
      },
      "cell_type": "markdown",
      "source": [
        "Split Train and Test Rows\n",
        "It is common to split a loaded dataset into separate train and test sets. This is a splitting of rows where some portion will be used to train the model and the remaining portion will be used to estimate the skill of the trained model. This would involve slicing all columns by specifying : in the second dimension index. The training dataset would be all rows from the beginning to the split point."
      ]
    },
    {
      "metadata": {
        "id": "fPUL_x81QaUB",
        "colab_type": "code",
        "outputId": "030b8de3-8542-44dc-d204-e6e56356d1a4",
        "colab": {
          "base_uri": "https://localhost:8080/",
          "height": 68
        }
      },
      "cell_type": "code",
      "source": [
        "# split train and test data\n",
        "from numpy import array\n",
        "# define array\n",
        "data = array([\n",
        "  [11, 22, 33],\n",
        "  [44, 55, 66],\n",
        "  [77, 88, 99]])\n",
        "# separate data\n",
        "split = 2\n",
        "train,test = data[:split,:],data[split:,:]\n",
        "print(train)\n",
        "print(test)  "
      ],
      "execution_count": 0,
      "outputs": [
        {
          "output_type": "stream",
          "text": [
            "[[11 22 33]\n",
            " [44 55 66]]\n",
            "[[77 88 99]]\n"
          ],
          "name": "stdout"
        }
      ]
    },
    {
      "metadata": {
        "id": "8k2iWlP6S2dm",
        "colab_type": "text"
      },
      "cell_type": "markdown",
      "source": [
        "##  Array Reshaping"
      ]
    },
    {
      "metadata": {
        "id": "rIJWghtqSq-9",
        "colab_type": "code",
        "outputId": "9c39e928-995e-48c3-9c3a-00375dedc5c2",
        "colab": {
          "base_uri": "https://localhost:8080/",
          "height": 34
        }
      },
      "cell_type": "code",
      "source": [
        "# shape of one-dimensional array\n",
        "from numpy import array\n",
        "# define array\n",
        "data = array([11, 22, 33, 44, 55])\n",
        "print(data.shape)"
      ],
      "execution_count": 0,
      "outputs": [
        {
          "output_type": "stream",
          "text": [
            "(5,)\n"
          ],
          "name": "stdout"
        }
      ]
    },
    {
      "metadata": {
        "id": "x19sZRErTODi",
        "colab_type": "code",
        "outputId": "6e8d86fd-74bc-4fff-c511-ae29b4acef03",
        "colab": {
          "base_uri": "https://localhost:8080/",
          "height": 34
        }
      },
      "cell_type": "code",
      "source": [
        "# shape of a two-dimensional array\n",
        "from numpy import array\n",
        "# list of data\n",
        "data = [[11, 22],\n",
        "[33, 44],\n",
        "[55, 66]]\n",
        "# array of data\n",
        "data = array(data)\n",
        "print(data.shape)"
      ],
      "execution_count": 0,
      "outputs": [
        {
          "output_type": "stream",
          "text": [
            "(3, 2)\n"
          ],
          "name": "stdout"
        }
      ]
    },
    {
      "metadata": {
        "id": "QNo49B36TTMh",
        "colab_type": "code",
        "outputId": "8cd4ebeb-c3c4-418d-ad0a-580bf1b6bf2b",
        "colab": {
          "base_uri": "https://localhost:8080/",
          "height": 51
        }
      },
      "cell_type": "code",
      "source": [
        "# row and column shape of two-dimensional array\n",
        "from numpy import array\n",
        "# list of data\n",
        "data = [[11, 22],\n",
        " [33, 44],\n",
        " [55, 66]]\n",
        "# array of data\n",
        "data = array(data)\n",
        "print('Rows: %d' % data.shape[0]) \n",
        "print('Cols: %d' % data.shape[1])"
      ],
      "execution_count": 0,
      "outputs": [
        {
          "output_type": "stream",
          "text": [
            "Rows: 3\n",
            "Cols: 2\n"
          ],
          "name": "stdout"
        }
      ]
    },
    {
      "metadata": {
        "id": "HcP8dwj6TtW-",
        "colab_type": "text"
      },
      "cell_type": "markdown",
      "source": [
        "## Reshape 1D to 2D Array\n"
      ]
    },
    {
      "metadata": {
        "id": "j0fDLG9rTY4X",
        "colab_type": "code",
        "outputId": "09f31e6b-dcca-4f36-b837-5600e195e671",
        "colab": {
          "base_uri": "https://localhost:8080/",
          "height": 51
        }
      },
      "cell_type": "code",
      "source": [
        "# reshape 1D array to 2D\n",
        "from numpy import array\n",
        "# define array\n",
        "data = array([11, 22, 33, 44, 55])\n",
        "print(data.shape)\n",
        "# reshape\n",
        "data = data.reshape((data.shape[0], 1))\n",
        "print(data.shape)"
      ],
      "execution_count": 0,
      "outputs": [
        {
          "output_type": "stream",
          "text": [
            "(5,)\n",
            "(5, 1)\n"
          ],
          "name": "stdout"
        }
      ]
    },
    {
      "metadata": {
        "id": "iq5T53jKT02V",
        "colab_type": "code",
        "outputId": "a470fba0-5cf3-4161-c4ac-a24db9c9d287",
        "colab": {
          "base_uri": "https://localhost:8080/",
          "height": 102
        }
      },
      "cell_type": "code",
      "source": [
        "print(data)"
      ],
      "execution_count": 0,
      "outputs": [
        {
          "output_type": "stream",
          "text": [
            "[[11]\n",
            " [22]\n",
            " [33]\n",
            " [44]\n",
            " [55]]\n"
          ],
          "name": "stdout"
        }
      ]
    },
    {
      "metadata": {
        "id": "VKGwK4HJUKWL",
        "colab_type": "text"
      },
      "cell_type": "markdown",
      "source": [
        "## Reshape 2D to 3D Array"
      ]
    },
    {
      "metadata": {
        "id": "bolMTdRBUDZ6",
        "colab_type": "code",
        "outputId": "192ab200-0470-498b-c92f-3c8bddca4795",
        "colab": {
          "base_uri": "https://localhost:8080/",
          "height": 51
        }
      },
      "cell_type": "code",
      "source": [
        "# reshape 2D array to 3D\n",
        "from numpy import array\n",
        "# list of data\n",
        "data = [[11, 22],\n",
        "[33, 44],\n",
        "[55, 66]]\n",
        "# array of data\n",
        "data = array(data)\n",
        "print(data.shape)\n",
        "# reshape\n",
        "data = data.reshape((data.shape[0], data.shape[1], 1))\n",
        "print(data.shape)"
      ],
      "execution_count": 0,
      "outputs": [
        {
          "output_type": "stream",
          "text": [
            "(3, 2)\n",
            "(3, 2, 1)\n"
          ],
          "name": "stdout"
        }
      ]
    },
    {
      "metadata": {
        "id": "UVEFwhirUXxA",
        "colab_type": "code",
        "outputId": "c02d17b3-4901-4c5e-996e-90cfa10f1e2a",
        "colab": {
          "base_uri": "https://localhost:8080/",
          "height": 153
        }
      },
      "cell_type": "code",
      "source": [
        "print(data)"
      ],
      "execution_count": 0,
      "outputs": [
        {
          "output_type": "stream",
          "text": [
            "[[[11]\n",
            "  [22]]\n",
            "\n",
            " [[33]\n",
            "  [44]]\n",
            "\n",
            " [[55]\n",
            "  [66]]]\n"
          ],
          "name": "stdout"
        }
      ]
    },
    {
      "metadata": {
        "id": "qZUJdRB3Z6W9",
        "colab_type": "text"
      },
      "cell_type": "markdown",
      "source": [
        "## Array Broadcasting\n"
      ]
    },
    {
      "metadata": {
        "id": "UZIXpwRRUhyG",
        "colab_type": "code",
        "outputId": "5cbaf433-ff49-473c-bfe6-fbd6e6559d2b",
        "colab": {
          "base_uri": "https://localhost:8080/",
          "height": 85
        }
      },
      "cell_type": "code",
      "source": [
        "# broadcast scalar to one-dimensional array\n",
        "from numpy import array\n",
        "# define array\n",
        "a = array([1, 2, 3])\n",
        "print(a)\n",
        "print(a.shape)\n",
        "# define scalar\n",
        "b=2 \n",
        "print(b)\n",
        "# print(b.shape)\n",
        "# broadcast \n",
        "c=a+b\n",
        "print(c)"
      ],
      "execution_count": 0,
      "outputs": [
        {
          "output_type": "stream",
          "text": [
            "[1 2 3]\n",
            "(3,)\n",
            "2\n",
            "[3 4 5]\n"
          ],
          "name": "stdout"
        }
      ]
    },
    {
      "metadata": {
        "id": "havZJ5oaaAxm",
        "colab_type": "code",
        "outputId": "a0521c8d-1fad-4111-9209-670e924e3b57",
        "colab": {
          "base_uri": "https://localhost:8080/",
          "height": 136
        }
      },
      "cell_type": "code",
      "source": [
        "# broadcast one-dimensional array to two-dimensional array\n",
        "from numpy import array\n",
        "# define two-dimensional array\n",
        "A = array([\n",
        "[1, 2, 3],\n",
        "[1, 2, 3]])\n",
        "print(A)\n",
        "print(A.shape)\n",
        "# define one-dimensional array \n",
        "b = array([1, 2, 3])\n",
        "print(b)\n",
        "print(b.shape)\n",
        "# broadcast\n",
        "C=A+b\n",
        "print(C)"
      ],
      "execution_count": 0,
      "outputs": [
        {
          "output_type": "stream",
          "text": [
            "[[1 2 3]\n",
            " [1 2 3]]\n",
            "(2, 3)\n",
            "[1 2 3]\n",
            "(3,)\n",
            "[[2 4 6]\n",
            " [2 4 6]]\n"
          ],
          "name": "stdout"
        }
      ]
    },
    {
      "metadata": {
        "id": "-SZqtCpfhpE6",
        "colab_type": "code",
        "outputId": "8fe712b7-fb1a-4942-ce16-80ef17d94c34",
        "colab": {
          "base_uri": "https://localhost:8080/",
          "height": 4420
        }
      },
      "cell_type": "code",
      "source": [
        "import numpy as np\n",
        "\n",
        "x = np.random.random((64, 3, 32, 10))\n",
        "y = np.random.random((32, 10))\n",
        "\n",
        "z = np.maximum(x, y)\n",
        "print(z)\n"
      ],
      "execution_count": 0,
      "outputs": [
        {
          "output_type": "stream",
          "text": [
            "[[[[0.9483574  0.63370856 0.60249399 ... 0.45271774 0.93409257\n",
            "    0.49993419]\n",
            "   [0.50070777 0.88226051 0.8822172  ... 0.15039384 0.82277674\n",
            "    0.15272299]\n",
            "   [0.75639787 0.23860389 0.8373985  ... 0.47458561 0.8027014\n",
            "    0.75808878]\n",
            "   ...\n",
            "   [0.99742034 0.84766191 0.35453016 ... 0.20157935 0.14594041\n",
            "    0.93555595]\n",
            "   [0.98003621 0.5829339  0.98127838 ... 0.84821052 0.72099762\n",
            "    0.60982079]\n",
            "   [0.30675659 0.91932964 0.94678142 ... 0.73863481 0.94496858\n",
            "    0.12233423]]\n",
            "\n",
            "  [[0.9483574  0.45186088 0.84590154 ... 0.39628905 0.54118514\n",
            "    0.32041433]\n",
            "   [0.50070777 0.88226051 0.88949399 ... 0.60158675 0.63819602\n",
            "    0.85749394]\n",
            "   [0.75639787 0.60075607 0.8373985  ... 0.7776064  0.8027014\n",
            "    0.73372846]\n",
            "   ...\n",
            "   [0.86975094 0.84766191 0.58152097 ... 0.20157935 0.97919704\n",
            "    0.93555595]\n",
            "   [0.89311911 0.5829339  0.98127838 ... 0.84821052 0.63291245\n",
            "    0.48057277]\n",
            "   [0.34944279 0.91932964 0.88543806 ... 0.79868528 0.44691742\n",
            "    0.31301432]]\n",
            "\n",
            "  [[0.9483574  0.45186088 0.65463854 ... 0.39628905 0.54118514\n",
            "    0.18532265]\n",
            "   [0.50070777 0.88226051 0.8822172  ... 0.15039384 0.63819602\n",
            "    0.99811481]\n",
            "   [0.75639787 0.44138346 0.88754844 ... 0.47046116 0.8027014\n",
            "    0.94848262]\n",
            "   ...\n",
            "   [0.60908847 0.84766191 0.31263782 ... 0.68844504 0.11953535\n",
            "    0.93555595]\n",
            "   [0.89311911 0.5829339  0.98127838 ... 0.84821052 0.45099042\n",
            "    0.46795014]\n",
            "   [0.30675659 0.91932964 0.88181326 ... 0.73863481 0.15913995\n",
            "    0.12233423]]]\n",
            "\n",
            "\n",
            " [[[0.9483574  0.5025644  0.84080979 ... 0.44312284 0.65281311\n",
            "    0.83877654]\n",
            "   [0.75711015 0.88226051 0.9192873  ... 0.75076264 0.92856825\n",
            "    0.58398899]\n",
            "   [0.87249517 0.99268224 0.8373985  ... 0.73804739 0.8027014\n",
            "    0.73372846]\n",
            "   ...\n",
            "   [0.99116112 0.84766191 0.8090853  ... 0.54732771 0.92929657\n",
            "    0.93555595]\n",
            "   [0.89311911 0.5829339  0.98127838 ... 0.91439074 0.22479031\n",
            "    0.45460627]\n",
            "   [0.86011857 0.91932964 0.88181326 ... 0.73863481 0.33305875\n",
            "    0.12233423]]\n",
            "\n",
            "  [[0.9483574  0.45186088 0.58994454 ... 0.99753864 0.79930183\n",
            "    0.95034892]\n",
            "   [0.50070777 0.88226051 0.8822172  ... 0.98309159 0.63819602\n",
            "    0.89414791]\n",
            "   [0.75639787 0.75027366 0.8373985  ... 0.63916097 0.82549988\n",
            "    0.93349295]\n",
            "   ...\n",
            "   [0.60908847 0.94597838 0.75352749 ... 0.30363701 0.57825531\n",
            "    0.93555595]\n",
            "   [0.89311911 0.67712542 0.99584564 ... 0.84821052 0.22479031\n",
            "    0.45460627]\n",
            "   [0.93380197 0.91932964 0.88181326 ... 0.85970724 0.73531891\n",
            "    0.59675456]]\n",
            "\n",
            "  [[0.9483574  0.92962154 0.99303212 ... 0.64838784 0.54492754\n",
            "    0.95075805]\n",
            "   [0.50070777 0.88226051 0.8822172  ... 0.21578178 0.63819602\n",
            "    0.66532075]\n",
            "   [0.75639787 0.40241244 0.8373985  ... 0.47046116 0.8027014\n",
            "    0.73372846]\n",
            "   ...\n",
            "   [0.78290952 0.86655651 0.31263782 ... 0.20182332 0.39645452\n",
            "    0.93555595]\n",
            "   [0.89311911 0.5829339  0.98127838 ... 0.94380141 0.28874633\n",
            "    0.45460627]\n",
            "   [0.54930127 0.91932964 0.88181326 ... 0.98315398 0.54283619\n",
            "    0.12233423]]]\n",
            "\n",
            "\n",
            " [[[0.94847327 0.82522405 0.96573745 ... 0.81972402 0.54118514\n",
            "    0.18532265]\n",
            "   [0.74154181 0.88226051 0.8822172  ... 0.69812573 0.81715928\n",
            "    0.91889643]\n",
            "   [0.75639787 0.58478191 0.8373985  ... 0.66005049 0.8027014\n",
            "    0.85715304]\n",
            "   ...\n",
            "   [0.6746702  0.84766191 0.31263782 ... 0.53553473 0.6533708\n",
            "    0.93555595]\n",
            "   [0.89311911 0.61497817 0.98127838 ... 0.84821052 0.46232047\n",
            "    0.49272737]\n",
            "   [0.76470718 0.91932964 0.88181326 ... 0.92013807 0.78826479\n",
            "    0.12233423]]\n",
            "\n",
            "  [[0.9483574  0.66627817 0.65239424 ... 0.39628905 0.81473455\n",
            "    0.76499381]\n",
            "   [0.80003505 0.88226051 0.8822172  ... 0.46831043 0.63819602\n",
            "    0.77465575]\n",
            "   [0.80899387 0.23354678 0.8832093  ... 0.67658031 0.8027014\n",
            "    0.73372846]\n",
            "   ...\n",
            "   [0.60908847 0.84766191 0.5641679  ... 0.5500473  0.26307011\n",
            "    0.93555595]\n",
            "   [0.89311911 0.7880367  0.98127838 ... 0.84821052 0.82334021\n",
            "    0.81485155]\n",
            "   [0.30675659 0.91932964 0.88181326 ... 0.73863481 0.78269745\n",
            "    0.49671332]]\n",
            "\n",
            "  [[0.9483574  0.66927195 0.40057565 ... 0.68033382 0.5734253\n",
            "    0.52336104]\n",
            "   [0.92243683 0.88226051 0.8822172  ... 0.86426172 0.63819602\n",
            "    0.54603428]\n",
            "   [0.75639787 0.38243186 0.8373985  ... 0.47046116 0.8027014\n",
            "    0.73372846]\n",
            "   ...\n",
            "   [0.70399441 0.84766191 0.81792407 ... 0.4208628  0.10632598\n",
            "    0.93555595]\n",
            "   [0.89311911 0.80041792 0.98127838 ... 0.84821052 0.39652244\n",
            "    0.53327182]\n",
            "   [0.55109528 0.91932964 0.88181326 ... 0.73863481 0.89806672\n",
            "    0.12233423]]]\n",
            "\n",
            "\n",
            " ...\n",
            "\n",
            "\n",
            " [[[0.9483574  0.46366272 0.48638149 ... 0.42287032 0.65469995\n",
            "    0.25702798]\n",
            "   [0.50070777 0.88226051 0.8822172  ... 0.36495698 0.9757136\n",
            "    0.19006008]\n",
            "   [0.75639787 0.79698633 0.98488278 ... 0.47046116 0.8027014\n",
            "    0.73372846]\n",
            "   ...\n",
            "   [0.60908847 0.84766191 0.49347156 ... 0.80685219 0.8514926\n",
            "    0.93555595]\n",
            "   [0.89311911 0.83594715 0.98127838 ... 0.84821052 0.48394676\n",
            "    0.45460627]\n",
            "   [0.30675659 0.91932964 0.88181326 ... 0.73863481 0.62250186\n",
            "    0.17107576]]\n",
            "\n",
            "  [[0.9483574  0.66717908 0.38809647 ... 0.47765788 0.88797041\n",
            "    0.35112945]\n",
            "   [0.90524606 0.88226051 0.8822172  ... 0.36264199 0.63819602\n",
            "    0.97968836]\n",
            "   [0.75639787 0.81579531 0.8373985  ... 0.47046116 0.92342525\n",
            "    0.73372846]\n",
            "   ...\n",
            "   [0.60908847 0.84766191 0.31263782 ... 0.55263268 0.95754366\n",
            "    0.93555595]\n",
            "   [0.89311911 0.5829339  0.98127838 ... 0.89007928 0.59993621\n",
            "    0.85198465]\n",
            "   [0.30675659 0.91932964 0.88181326 ... 0.73863481 0.32449821\n",
            "    0.88499292]]\n",
            "\n",
            "  [[0.9483574  0.69258768 0.72250677 ... 0.87561648 0.97441687\n",
            "    0.32099625]\n",
            "   [0.50070777 0.88226051 0.8822172  ... 0.38880223 0.63819602\n",
            "    0.8685984 ]\n",
            "   [0.75639787 0.40218414 0.8373985  ... 0.7930464  0.8027014\n",
            "    0.95931932]\n",
            "   ...\n",
            "   [0.60908847 0.84766191 0.37238742 ... 0.20157935 0.50919057\n",
            "    0.93555595]\n",
            "   [0.89311911 0.80186701 0.98127838 ... 0.84821052 0.46637769\n",
            "    0.45460627]\n",
            "   [0.90930786 0.91932964 0.88181326 ... 0.73863481 0.29015767\n",
            "    0.82819247]]]\n",
            "\n",
            "\n",
            " [[[0.9483574  0.45186088 0.70519194 ... 0.93399872 0.89781994\n",
            "    0.33662873]\n",
            "   [0.50070777 0.88226051 0.8822172  ... 0.45721321 0.87930444\n",
            "    0.38261986]\n",
            "   [0.75639787 0.41733787 0.8373985  ... 0.86475361 0.8027014\n",
            "    0.80894704]\n",
            "   ...\n",
            "   [0.60908847 0.84766191 0.31331743 ... 0.62921538 0.63755853\n",
            "    0.93555595]\n",
            "   [0.89311911 0.5829339  0.98127838 ... 0.84821052 0.79017088\n",
            "    0.45460627]\n",
            "   [0.89760486 0.91932964 0.99191435 ... 0.73863481 0.60731649\n",
            "    0.79177252]]\n",
            "\n",
            "  [[0.9483574  0.45186088 0.84305202 ... 0.39628905 0.64328229\n",
            "    0.18532265]\n",
            "   [0.78412266 0.88226051 0.8822172  ... 0.15039384 0.63819602\n",
            "    0.1353471 ]\n",
            "   [0.75639787 0.85938475 0.8373985  ... 0.47046116 0.8027014\n",
            "    0.73372846]\n",
            "   ...\n",
            "   [0.60908847 0.84766191 0.31263782 ... 0.92529634 0.27108715\n",
            "    0.93555595]\n",
            "   [0.9553629  0.5829339  0.98127838 ... 0.97671892 0.38236868\n",
            "    0.45460627]\n",
            "   [0.54346175 0.96918058 0.88181326 ... 0.99071994 0.92821074\n",
            "    0.1821231 ]]\n",
            "\n",
            "  [[0.9483574  0.98836418 0.38809647 ... 0.44136699 0.71354302\n",
            "    0.18532265]\n",
            "   [0.65935172 0.88226051 0.8822172  ... 0.21235579 0.63819602\n",
            "    0.69022734]\n",
            "   [0.75639787 0.83315049 0.8373985  ... 0.49432262 0.8027014\n",
            "    0.92148243]\n",
            "   ...\n",
            "   [0.63934838 0.84766191 0.44542619 ... 0.44623859 0.34540392\n",
            "    0.93555595]\n",
            "   [0.89311911 0.5829339  0.98127838 ... 0.84821052 0.28103378\n",
            "    0.49829184]\n",
            "   [0.89129353 0.91932964 0.88181326 ... 0.74831664 0.92513413\n",
            "    0.7295433 ]]]\n",
            "\n",
            "\n",
            " [[[0.9483574  0.85967251 0.38809647 ... 0.39628905 0.54118514\n",
            "    0.24597636]\n",
            "   [0.50070777 0.98835304 0.8822172  ... 0.47153331 0.63819602\n",
            "    0.29103791]\n",
            "   [0.75639787 0.35505128 0.8373985  ... 0.47046116 0.85573507\n",
            "    0.73372846]\n",
            "   ...\n",
            "   [0.60908847 0.84766191 0.60161505 ... 0.46225104 0.05714638\n",
            "    0.93555595]\n",
            "   [0.89311911 0.5829339  0.98127838 ... 0.84821052 0.87558559\n",
            "    0.45460627]\n",
            "   [0.91761915 0.91932964 0.88181326 ... 0.73863481 0.27298364\n",
            "    0.71098554]]\n",
            "\n",
            "  [[0.97053441 0.45186088 0.64349387 ... 0.64164523 0.54118514\n",
            "    0.53539248]\n",
            "   [0.50940739 0.88226051 0.8822172  ... 0.29529064 0.63819602\n",
            "    0.59334179]\n",
            "   [0.75639787 0.48938059 0.96389744 ... 0.51693515 0.8027014\n",
            "    0.73372846]\n",
            "   ...\n",
            "   [0.60908847 0.84766191 0.8515231  ... 0.44630692 0.44936006\n",
            "    0.93555595]\n",
            "   [0.89311911 0.5829339  0.98127838 ... 0.84821052 0.75444015\n",
            "    0.99040062]\n",
            "   [0.80604247 0.91932964 0.88181326 ... 0.73863481 0.49142935\n",
            "    0.2456557 ]]\n",
            "\n",
            "  [[0.9483574  0.54166307 0.61781319 ... 0.75511531 0.63779221\n",
            "    0.91621107]\n",
            "   [0.50070777 0.88226051 0.8822172  ... 0.77497869 0.63819602\n",
            "    0.76344148]\n",
            "   [0.75639787 0.25063862 0.8373985  ... 0.47046116 0.8027014\n",
            "    0.73372846]\n",
            "   ...\n",
            "   [0.90133063 0.94635243 0.31263782 ... 0.88605985 0.09406497\n",
            "    0.95725256]\n",
            "   [0.89311911 0.5829339  0.98127838 ... 0.9418124  0.89556851\n",
            "    0.45460627]\n",
            "   [0.8097651  0.91932964 0.88181326 ... 0.73863481 0.85222848\n",
            "    0.66537758]]]]\n"
          ],
          "name": "stdout"
        }
      ]
    },
    {
      "metadata": {
        "id": "bCLb4gWecQMK",
        "colab_type": "text"
      },
      "cell_type": "markdown",
      "source": [
        "## Vector"
      ]
    },
    {
      "metadata": {
        "id": "JrXc9qXPayBg",
        "colab_type": "code",
        "outputId": "9635aa51-d527-43a5-be4b-10ce00fbb5de",
        "colab": {
          "base_uri": "https://localhost:8080/",
          "height": 34
        }
      },
      "cell_type": "code",
      "source": [
        "# create a vector\n",
        "from numpy import array\n",
        "# define vector\n",
        "v = array([1, 2, 3])\n",
        "print(v)"
      ],
      "execution_count": 0,
      "outputs": [
        {
          "output_type": "stream",
          "text": [
            "[1 2 3]\n"
          ],
          "name": "stdout"
        }
      ]
    },
    {
      "metadata": {
        "id": "hkCo-zAicRrk",
        "colab_type": "code",
        "outputId": "37c6eb6b-c513-4cf4-af35-2626beebb491",
        "colab": {
          "base_uri": "https://localhost:8080/",
          "height": 68
        }
      },
      "cell_type": "code",
      "source": [
        "# vector division\n",
        "from numpy import array\n",
        "# define first vector\n",
        "a = array([1, 2, 3])\n",
        "print(a)\n",
        "# define second vector\n",
        "b = array([1, 2, 3]) \n",
        "print(b)\n",
        "# divide vectors \n",
        "c=a/b\n",
        "print(c)"
      ],
      "execution_count": 0,
      "outputs": [
        {
          "output_type": "stream",
          "text": [
            "[1 2 3]\n",
            "[1 2 3]\n",
            "[1. 1. 1.]\n"
          ],
          "name": "stdout"
        }
      ]
    },
    {
      "metadata": {
        "id": "M5SRNChIdDjD",
        "colab_type": "text"
      },
      "cell_type": "markdown",
      "source": [
        "## Vector Dot Product"
      ]
    },
    {
      "metadata": {
        "id": "al5emDczcxkZ",
        "colab_type": "code",
        "outputId": "ca6dd259-af77-4275-b79f-de98de560401",
        "colab": {
          "base_uri": "https://localhost:8080/",
          "height": 68
        }
      },
      "cell_type": "code",
      "source": [
        "# vector dot product\n",
        "from numpy import array\n",
        "# define first vector\n",
        "a = array([1, 2, 3])\n",
        "print(a)\n",
        "# define second vector\n",
        "b = array([1, 2, 3])\n",
        "print(b)\n",
        "# multiply vectors\n",
        "c = a.dot(b)\n",
        "print(c)"
      ],
      "execution_count": 0,
      "outputs": [
        {
          "output_type": "stream",
          "text": [
            "[1 2 3]\n",
            "[1 2 3]\n",
            "14\n"
          ],
          "name": "stdout"
        }
      ]
    },
    {
      "metadata": {
        "id": "R8mPLPce6NZU",
        "colab_type": "text"
      },
      "cell_type": "markdown",
      "source": [
        "## Matrix"
      ]
    },
    {
      "metadata": {
        "id": "3YmhqMgjdFll",
        "colab_type": "code",
        "colab": {
          "base_uri": "https://localhost:8080/",
          "height": 170
        },
        "outputId": "cf58fc78-4332-4b7f-d8c1-56113e383dd5"
      },
      "cell_type": "code",
      "source": [
        "# triangular matrices\n",
        "from numpy import array\n",
        "from numpy import tril\n",
        "from numpy import triu\n",
        "# define square matrix\n",
        "M = array([\n",
        "  [1, 2, 3],\n",
        "  [1, 2, 3],\n",
        "  [1, 2, 3]])\n",
        "print(M)\n",
        "# lower triangular matrix\n",
        "lower = tril(M)\n",
        "print(lower)\n",
        "# upper triangular matrix\n",
        "upper = triu(M)\n",
        "print(upper)"
      ],
      "execution_count": 1,
      "outputs": [
        {
          "output_type": "stream",
          "text": [
            "[[1 2 3]\n",
            " [1 2 3]\n",
            " [1 2 3]]\n",
            "[[1 0 0]\n",
            " [1 2 0]\n",
            " [1 2 3]]\n",
            "[[1 2 3]\n",
            " [0 2 3]\n",
            " [0 0 3]]\n"
          ],
          "name": "stdout"
        }
      ]
    },
    {
      "metadata": {
        "id": "RByFBWLK4yhX",
        "colab_type": "code",
        "colab": {
          "base_uri": "https://localhost:8080/",
          "height": 136
        },
        "outputId": "dc4b4cc1-acd5-4f67-b39a-848990fe4e3c"
      },
      "cell_type": "code",
      "source": [
        "# diagonal matrix\n",
        "from numpy import array\n",
        "from numpy import diag\n",
        "# define square matrix\n",
        "M = array([\n",
        "  [1, 2, 3],\n",
        "  [1, 2, 3],\n",
        "  [1, 2, 3]])\n",
        "print(M)\n",
        "# extract diagonal vector\n",
        "d = diag(M)\n",
        "print(d)\n",
        "# create diagonal matrix from vector\n",
        "D = diag(d)\n",
        "print(D)"
      ],
      "execution_count": 2,
      "outputs": [
        {
          "output_type": "stream",
          "text": [
            "[[1 2 3]\n",
            " [1 2 3]\n",
            " [1 2 3]]\n",
            "[1 2 3]\n",
            "[[1 0 0]\n",
            " [0 2 0]\n",
            " [0 0 3]]\n"
          ],
          "name": "stdout"
        }
      ]
    },
    {
      "metadata": {
        "id": "KlpChINe6afP",
        "colab_type": "code",
        "colab": {
          "base_uri": "https://localhost:8080/",
          "height": 153
        },
        "outputId": "b615f839-45b6-4cdb-fab0-8e04f4b5d654"
      },
      "cell_type": "code",
      "source": [
        "# orthogonal matrix\n",
        "from numpy import array\n",
        "from numpy.linalg import inv\n",
        "# define orthogonal matrix\n",
        "Q = array([\n",
        "[1, 0],\n",
        "  [0, -1]])\n",
        "print(Q)\n",
        "# inverse equivalence\n",
        "V = inv(Q)\n",
        "print(Q.T)\n",
        "print(V)\n",
        "# identity equivalence\n",
        "I = Q.dot(Q.T)\n",
        "print(I)"
      ],
      "execution_count": 3,
      "outputs": [
        {
          "output_type": "stream",
          "text": [
            "[[ 1  0]\n",
            " [ 0 -1]]\n",
            "[[ 1  0]\n",
            " [ 0 -1]]\n",
            "[[ 1.  0.]\n",
            " [-0. -1.]]\n",
            "[[1 0]\n",
            " [0 1]]\n"
          ],
          "name": "stdout"
        }
      ]
    },
    {
      "metadata": {
        "id": "oaqXLhcO-sV3",
        "colab_type": "text"
      },
      "cell_type": "markdown",
      "source": [
        "## Matrix Operations"
      ]
    },
    {
      "metadata": {
        "id": "rMQ1BgbF9HyW",
        "colab_type": "code",
        "colab": {
          "base_uri": "https://localhost:8080/",
          "height": 102
        },
        "outputId": "ad428edb-24ac-4501-dadf-bbb8ffecdebf"
      },
      "cell_type": "code",
      "source": [
        "# transpose matrix\n",
        "from numpy import array\n",
        "# define matrix\n",
        "A = array([\n",
        "  [1, 2],\n",
        "  [3, 4],\n",
        "  [5, 6]])\n",
        "print(A)\n",
        "# calculate transpose\n",
        "C = A.T\n",
        "print(C)"
      ],
      "execution_count": 4,
      "outputs": [
        {
          "output_type": "stream",
          "text": [
            "[[1 2]\n",
            " [3 4]\n",
            " [5 6]]\n",
            "[[1 3 5]\n",
            " [2 4 6]]\n"
          ],
          "name": "stdout"
        }
      ]
    },
    {
      "metadata": {
        "id": "_ixkmaIO_Wco",
        "colab_type": "code",
        "colab": {
          "base_uri": "https://localhost:8080/",
          "height": 119
        },
        "outputId": "8e61418c-3a44-4110-e29d-0df3f1f43f7d"
      },
      "cell_type": "code",
      "source": [
        "# invert matrix\n",
        "from numpy import array\n",
        "from numpy.linalg import inv\n",
        "# define matrix\n",
        "A = array([\n",
        "[1.0, 2.0],\n",
        "  [3.0, 4.0]])\n",
        "print(A)\n",
        "# invert matrix\n",
        "B = inv(A)\n",
        "print(B)\n",
        "# multiply A and B\n",
        "I = A.dot(B)\n",
        "print(I)\n",
        "\n",
        "# First, we define a small 2 × 2 matrix, then calculate the inverse of the matrix, and then confirm the inverse by multiplying it with the original matrix to give the identity matrix. Running the example prints the original, inverse, and identity matrices."
      ],
      "execution_count": 12,
      "outputs": [
        {
          "output_type": "stream",
          "text": [
            "[[1. 2.]\n",
            " [3. 4.]]\n",
            "[[-2.   1. ]\n",
            " [ 1.5 -0.5]]\n",
            "[[1.0000000e+00 0.0000000e+00]\n",
            " [8.8817842e-16 1.0000000e+00]]\n"
          ],
          "name": "stdout"
        }
      ]
    },
    {
      "metadata": {
        "id": "WPVpFUN6A-X6",
        "colab_type": "code",
        "colab": {
          "base_uri": "https://localhost:8080/",
          "height": 85
        },
        "outputId": "8954369b-295f-43fb-da30-dce0dd22306f"
      },
      "cell_type": "code",
      "source": [
        "# matrix trace\n",
        "from numpy import array\n",
        "from numpy import trace\n",
        "# define matrix\n",
        "A = array([\n",
        "  [1, 2, 3],\n",
        "  [4, 5, 6],\n",
        "  [7, 8, 9]])\n",
        "print(A)\n",
        "# calculate trace\n",
        "B = trace(A)\n",
        "print(B)"
      ],
      "execution_count": 13,
      "outputs": [
        {
          "output_type": "stream",
          "text": [
            "[[1 2 3]\n",
            " [4 5 6]\n",
            " [7 8 9]]\n",
            "15\n"
          ],
          "name": "stdout"
        }
      ]
    },
    {
      "metadata": {
        "id": "0TfUWGHiCz7E",
        "colab_type": "code",
        "colab": {}
      },
      "cell_type": "code",
      "source": [
        ""
      ],
      "execution_count": 0,
      "outputs": []
    }
  ]
}