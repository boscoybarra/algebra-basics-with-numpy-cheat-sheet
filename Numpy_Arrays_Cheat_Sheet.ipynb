{
  "nbformat": 4,
  "nbformat_minor": 0,
  "metadata": {
    "colab": {
      "name": "Numpy Arrays Cheat Sheet.ipynb",
      "version": "0.3.2",
      "provenance": [],
      "include_colab_link": true
    },
    "kernelspec": {
      "name": "python3",
      "display_name": "Python 3"
    }
  },
  "cells": [
    {
      "cell_type": "markdown",
      "metadata": {
        "id": "view-in-github",
        "colab_type": "text"
      },
      "source": [
        "<a href=\"https://colab.research.google.com/github/boscoybarra/algebra-basics-with-numpy-cheat-sheet/blob/master/Numpy_Arrays_Cheat_Sheet.ipynb\" target=\"_parent\"><img src=\"https://colab.research.google.com/assets/colab-badge.svg\" alt=\"Open In Colab\"/></a>"
      ]
    },
    {
      "metadata": {
        "id": "IDvG8LfmJg-F",
        "colab_type": "code",
        "colab": {}
      },
      "cell_type": "code",
      "source": [
        "from numpy import array\n"
      ],
      "execution_count": 0,
      "outputs": []
    },
    {
      "metadata": {
        "id": "KRgYKrkGJ8fX",
        "colab_type": "code",
        "colab": {}
      },
      "cell_type": "code",
      "source": [
        "# create array\n",
        "l = [1.0, 2.0, 3.0]\n",
        "a = array(l)"
      ],
      "execution_count": 0,
      "outputs": []
    },
    {
      "metadata": {
        "id": "el2c3gztJ_TN",
        "colab_type": "code",
        "outputId": "d126fde9-5572-48d3-a82b-1fef74476490",
        "colab": {
          "base_uri": "https://localhost:8080/",
          "height": 34
        }
      },
      "cell_type": "code",
      "source": [
        "# display array\n",
        "print(a)"
      ],
      "execution_count": 0,
      "outputs": [
        {
          "output_type": "stream",
          "text": [
            "[1. 2. 3.]\n"
          ],
          "name": "stdout"
        }
      ]
    },
    {
      "metadata": {
        "id": "Zplct6qCKC8F",
        "colab_type": "code",
        "outputId": "e11e1227-23ad-488d-9a5a-5a2a5655d933",
        "colab": {
          "base_uri": "https://localhost:8080/",
          "height": 34
        }
      },
      "cell_type": "code",
      "source": [
        "# display array shape\n",
        "print(a.shape)"
      ],
      "execution_count": 0,
      "outputs": [
        {
          "output_type": "stream",
          "text": [
            "(3,)\n"
          ],
          "name": "stdout"
        }
      ]
    },
    {
      "metadata": {
        "id": "ANT76qvCKD99",
        "colab_type": "code",
        "outputId": "b3ff8fe0-3e3e-4ba9-d3fd-da6d55564e3a",
        "colab": {
          "base_uri": "https://localhost:8080/",
          "height": 34
        }
      },
      "cell_type": "code",
      "source": [
        "# display array data type\n",
        "print(a.dtype)"
      ],
      "execution_count": 0,
      "outputs": [
        {
          "output_type": "stream",
          "text": [
            "float64\n"
          ],
          "name": "stdout"
        }
      ]
    },
    {
      "metadata": {
        "id": "7PLCJo-jKEVE",
        "colab_type": "code",
        "outputId": "6567a59b-6f40-43f0-c882-50d1cb75d268",
        "colab": {
          "base_uri": "https://localhost:8080/",
          "height": 68
        }
      },
      "cell_type": "code",
      "source": [
        "# create empty array\n",
        "from numpy import empty\n",
        "a = empty([3,3])\n",
        "print(a)"
      ],
      "execution_count": 0,
      "outputs": [
        {
          "output_type": "stream",
          "text": [
            "[[3.60814402e-316 1.09802054e-311 7.51470620e+199]\n",
            " [6.67771196e+151 6.01737305e+175 7.28577035e+199]\n",
            " [3.42134197e+180 3.38461351e+125 4.99809053e+228]]\n"
          ],
          "name": "stdout"
        }
      ]
    },
    {
      "metadata": {
        "id": "HS_GyvA_KXJi",
        "colab_type": "code",
        "outputId": "c7789c69-ee7c-4e28-c13e-a57d447a7bd1",
        "colab": {
          "base_uri": "https://localhost:8080/",
          "height": 68
        }
      },
      "cell_type": "code",
      "source": [
        "# create zero array\n",
        "from numpy import zeros\n",
        "a = zeros([3,5])\n",
        "print(a)"
      ],
      "execution_count": 0,
      "outputs": [
        {
          "output_type": "stream",
          "text": [
            "[[0. 0. 0. 0. 0.]\n",
            " [0. 0. 0. 0. 0.]\n",
            " [0. 0. 0. 0. 0.]]\n"
          ],
          "name": "stdout"
        }
      ]
    },
    {
      "metadata": {
        "id": "PPW0mLbOKdbi",
        "colab_type": "code",
        "outputId": "ba1c63df-791c-44e0-dd73-e7d4751ccd1a",
        "colab": {
          "base_uri": "https://localhost:8080/",
          "height": 34
        }
      },
      "cell_type": "code",
      "source": [
        "# create one array\n",
        "from numpy import ones\n",
        "a = ones([5])\n",
        "print(a)"
      ],
      "execution_count": 0,
      "outputs": [
        {
          "output_type": "stream",
          "text": [
            "[1. 1. 1. 1. 1.]\n"
          ],
          "name": "stdout"
        }
      ]
    },
    {
      "metadata": {
        "id": "_ZszcpoHK03h",
        "colab_type": "text"
      },
      "cell_type": "markdown",
      "source": [
        "##Combining Arrays"
      ]
    },
    {
      "metadata": {
        "id": "7E0pfDYhKeuU",
        "colab_type": "code",
        "outputId": "9289cae2-bf9d-4073-e709-6807596b6070",
        "colab": {
          "base_uri": "https://localhost:8080/",
          "height": 102
        }
      },
      "cell_type": "code",
      "source": [
        "# create array with vstack\n",
        "from numpy import array\n",
        "from numpy import vstack\n",
        "# create first array\n",
        "a1 = array([1,2,3])\n",
        "print(a1)\n",
        "# create second array\n",
        "a2 = array([4,5,6])\n",
        "print(a2)\n",
        "# vertical stack\n",
        "a3 = vstack((a1, a2))\n",
        "print(a3)\n",
        "print(a3.shape)"
      ],
      "execution_count": 0,
      "outputs": [
        {
          "output_type": "stream",
          "text": [
            "[1 2 3]\n",
            "[4 5 6]\n",
            "[[1 2 3]\n",
            " [4 5 6]]\n",
            "(2, 3)\n"
          ],
          "name": "stdout"
        }
      ]
    },
    {
      "metadata": {
        "id": "QxyoYiBGLClU",
        "colab_type": "code",
        "outputId": "28a1751b-3d7d-468d-b69f-fdbf88c46296",
        "colab": {
          "base_uri": "https://localhost:8080/",
          "height": 85
        }
      },
      "cell_type": "code",
      "source": [
        "# create array with hstack\n",
        "from numpy import array\n",
        "from numpy import hstack\n",
        "# create first array\n",
        "a1 = array([1,2,3])\n",
        "print(a1)\n",
        "# create second array\n",
        "a2 = array([4,5,6])\n",
        "print(a2)\n",
        "# create horizontal stack\n",
        "a3 = hstack((a1, a2))\n",
        "print(a3)\n",
        "print(a3.shape)"
      ],
      "execution_count": 0,
      "outputs": [
        {
          "output_type": "stream",
          "text": [
            "[1 2 3]\n",
            "[4 5 6]\n",
            "[1 2 3 4 5 6]\n",
            "(6,)\n"
          ],
          "name": "stdout"
        }
      ]
    },
    {
      "metadata": {
        "id": "CmM-JiOALKZC",
        "colab_type": "code",
        "colab": {}
      },
      "cell_type": "code",
      "source": [
        "b1 = array([7,8,9])\n",
        "b2 = array([10,11,12])"
      ],
      "execution_count": 0,
      "outputs": []
    },
    {
      "metadata": {
        "id": "2R8MezKlLpbf",
        "colab_type": "code",
        "outputId": "06dfaaf8-bea0-4023-bc85-091b9a092493",
        "colab": {
          "base_uri": "https://localhost:8080/",
          "height": 51
        }
      },
      "cell_type": "code",
      "source": [
        "b3 = vstack((b1, b2))\n",
        "print(b3)"
      ],
      "execution_count": 0,
      "outputs": [
        {
          "output_type": "stream",
          "text": [
            "[[ 7  8  9]\n",
            " [10 11 12]]\n"
          ],
          "name": "stdout"
        }
      ]
    },
    {
      "metadata": {
        "id": "so3t0lpIMA_g",
        "colab_type": "code",
        "outputId": "ac8595cd-96c7-4143-9df9-b18d178b5c97",
        "colab": {
          "base_uri": "https://localhost:8080/",
          "height": 51
        }
      },
      "cell_type": "code",
      "source": [
        "print(a2.shape)\n",
        "print(b3.shape)"
      ],
      "execution_count": 0,
      "outputs": [
        {
          "output_type": "stream",
          "text": [
            "(3,)\n",
            "(2, 3)\n"
          ],
          "name": "stdout"
        }
      ]
    },
    {
      "metadata": {
        "id": "6HE3GihBLuO3",
        "colab_type": "code",
        "outputId": "ac5fb69f-23c2-4f5a-ee6a-579bf6a206b5",
        "colab": {
          "base_uri": "https://localhost:8080/",
          "height": 68
        }
      },
      "cell_type": "code",
      "source": [
        "\n",
        "from numpy import transpose\n",
        "transpose(a2)\n",
        "print(b3)\n",
        "print(a2)"
      ],
      "execution_count": 0,
      "outputs": [
        {
          "output_type": "stream",
          "text": [
            "[[ 7  8  9]\n",
            " [10 11 12]]\n",
            "[4 5 6]\n"
          ],
          "name": "stdout"
        }
      ]
    },
    {
      "metadata": {
        "id": "2b5mpQ4NNm7a",
        "colab_type": "text"
      },
      "cell_type": "markdown",
      "source": [
        "## Array Indexing"
      ]
    },
    {
      "metadata": {
        "id": "wzW3Eh2CL8Sr",
        "colab_type": "code",
        "outputId": "619b76ad-d101-43c1-dde4-5303e64b608f",
        "colab": {
          "base_uri": "https://localhost:8080/",
          "height": 51
        }
      },
      "cell_type": "code",
      "source": [
        "# negative array indexing\n",
        "from numpy import array\n",
        "# define array\n",
        "data = array([11, 22, 33, 44, 55])\n",
        "# index data\n",
        "print(data[-1])\n",
        "print(data[-5])"
      ],
      "execution_count": 0,
      "outputs": [
        {
          "output_type": "stream",
          "text": [
            "55\n",
            "11\n"
          ],
          "name": "stdout"
        }
      ]
    },
    {
      "metadata": {
        "id": "MRFH-aNUNwGl",
        "colab_type": "code",
        "outputId": "6e82454b-62ff-403a-e385-6a84dc01d85d",
        "colab": {
          "base_uri": "https://localhost:8080/",
          "height": 34
        }
      },
      "cell_type": "code",
      "source": [
        "# index two-dimensional array\n",
        "from numpy import array\n",
        "# define array\n",
        "data = array([\n",
        "  [11, 22],\n",
        "  [33, 44],\n",
        "  [55, 66]])\n",
        "# index data\n",
        "print(data[0,0])"
      ],
      "execution_count": 0,
      "outputs": [
        {
          "output_type": "stream",
          "text": [
            "11\n"
          ],
          "name": "stdout"
        }
      ]
    },
    {
      "metadata": {
        "id": "-g--bmVsOH-x",
        "colab_type": "code",
        "outputId": "2992ff3b-b42b-4797-f1b2-d0873cda2752",
        "colab": {
          "base_uri": "https://localhost:8080/",
          "height": 34
        }
      },
      "cell_type": "code",
      "source": [
        "# index row of two-dimensional array\n",
        "from numpy import array\n",
        "# define array\n",
        "data = array([\n",
        "  [11, 22],\n",
        "  [33, 44],\n",
        "  [55, 66]])\n",
        "# index data\n",
        "print(data[0,])"
      ],
      "execution_count": 0,
      "outputs": [
        {
          "output_type": "stream",
          "text": [
            "[11 22]\n"
          ],
          "name": "stdout"
        }
      ]
    },
    {
      "metadata": {
        "id": "Gazqh8rkOY2-",
        "colab_type": "text"
      },
      "cell_type": "markdown",
      "source": [
        "## Array Slicing\n",
        "\n",
        "data[from:to]"
      ]
    },
    {
      "metadata": {
        "id": "bbMHwPMbORrp",
        "colab_type": "code",
        "outputId": "b513d4b7-d9cb-4b7a-cb96-54777a435c50",
        "colab": {
          "base_uri": "https://localhost:8080/",
          "height": 34
        }
      },
      "cell_type": "code",
      "source": [
        "# slice a one-dimensional array\n",
        "from numpy import array\n",
        "# define array\n",
        "data = array([11, 22, 33, 44, 55])\n",
        "print(data[1:])"
      ],
      "execution_count": 0,
      "outputs": [
        {
          "output_type": "stream",
          "text": [
            "[22 33 44 55]\n"
          ],
          "name": "stdout"
        }
      ]
    },
    {
      "metadata": {
        "id": "aJl1dD0SOpWu",
        "colab_type": "code",
        "outputId": "57a59a91-92ba-43cf-d383-5dec439f4d7e",
        "colab": {
          "base_uri": "https://localhost:8080/",
          "height": 34
        }
      },
      "cell_type": "code",
      "source": [
        "# slice a subset of a one-dimensional array\n",
        "from numpy import array\n",
        "# define array\n",
        "data = array([11, 22, 33, 44, 55])\n",
        "print(data[0:1])"
      ],
      "execution_count": 0,
      "outputs": [
        {
          "output_type": "stream",
          "text": [
            "[11]\n"
          ],
          "name": "stdout"
        }
      ]
    },
    {
      "metadata": {
        "id": "g9BM7AbWOrTE",
        "colab_type": "code",
        "outputId": "a50a3973-5ec2-4b3c-9f93-79a2bc3ee6b4",
        "colab": {
          "base_uri": "https://localhost:8080/",
          "height": 34
        }
      },
      "cell_type": "code",
      "source": [
        "# negative slicing of a one-dimensional array\n",
        "from numpy import array\n",
        "# define array\n",
        "data = array([11, 22, 33, 44, 55])\n",
        "print(data[-2:])"
      ],
      "execution_count": 0,
      "outputs": [
        {
          "output_type": "stream",
          "text": [
            "[44 55]\n"
          ],
          "name": "stdout"
        }
      ]
    },
    {
      "metadata": {
        "id": "ThsGf9jXO8j-",
        "colab_type": "text"
      },
      "cell_type": "markdown",
      "source": [
        "## Two-Dimensional Slicing"
      ]
    },
    {
      "metadata": {
        "id": "cl9PG_MtOy9G",
        "colab_type": "code",
        "outputId": "577aa7c5-f4f6-4484-827b-79d8e4c0a7ae",
        "colab": {
          "base_uri": "https://localhost:8080/",
          "height": 130
        }
      },
      "cell_type": "code",
      "source": [
        ""
      ],
      "execution_count": 0,
      "outputs": [
        {
          "output_type": "error",
          "ename": "SyntaxError",
          "evalue": "ignored",
          "traceback": [
            "\u001b[0;36m  File \u001b[0;32m\"<ipython-input-39-e9f37c783128>\"\u001b[0;36m, line \u001b[0;32m1\u001b[0m\n\u001b[0;31m    X = [:, :-1]\u001b[0m\n\u001b[0m         ^\u001b[0m\n\u001b[0;31mSyntaxError\u001b[0m\u001b[0;31m:\u001b[0m invalid syntax\n"
          ]
        }
      ]
    },
    {
      "metadata": {
        "id": "hS3zoy1UQWIy",
        "colab_type": "text"
      },
      "cell_type": "markdown",
      "source": [
        "X = [:, :-1]\n",
        "    [#row , #column]"
      ]
    },
    {
      "metadata": {
        "id": "sIee7I_gP1t9",
        "colab_type": "code",
        "outputId": "a6f31f9e-b351-49e8-b908-d7134639b651",
        "colab": {
          "base_uri": "https://localhost:8080/",
          "height": 102
        }
      },
      "cell_type": "code",
      "source": [
        "# split input and output data\n",
        "from numpy import array\n",
        "# define array\n",
        "data = array([\n",
        "  [11, 22, 33],\n",
        "  [44, 55, 66],\n",
        "  [77, 88, 99]])\n",
        "# separate data\n",
        "#For the input \"X\" features, we can select all rows and all columns except the last one by specifying : for in the rows index, and :-1 in the columns index.\n",
        "X, y = data[:, :-2], data[:, -1] #For the output \"y\" column, we can select all rows again using : and index just the last column by specifying the -1 index.\n",
        "print(data.shape)\n",
        "print(X)\n",
        "print(y)"
      ],
      "execution_count": 0,
      "outputs": [
        {
          "output_type": "stream",
          "text": [
            "(3, 3)\n",
            "[[11]\n",
            " [44]\n",
            " [77]]\n",
            "[33 66 99]\n"
          ],
          "name": "stdout"
        }
      ]
    },
    {
      "metadata": {
        "id": "hOejPk3hSLLc",
        "colab_type": "text"
      },
      "cell_type": "markdown",
      "source": [
        "Split Train and Test Rows\n",
        "It is common to split a loaded dataset into separate train and test sets. This is a splitting of rows where some portion will be used to train the model and the remaining portion will be used to estimate the skill of the trained model. This would involve slicing all columns by specifying : in the second dimension index. The training dataset would be all rows from the beginning to the split point."
      ]
    },
    {
      "metadata": {
        "id": "fPUL_x81QaUB",
        "colab_type": "code",
        "outputId": "030b8de3-8542-44dc-d204-e6e56356d1a4",
        "colab": {
          "base_uri": "https://localhost:8080/",
          "height": 68
        }
      },
      "cell_type": "code",
      "source": [
        "# split train and test data\n",
        "from numpy import array\n",
        "# define array\n",
        "data = array([\n",
        "  [11, 22, 33],\n",
        "  [44, 55, 66],\n",
        "  [77, 88, 99]])\n",
        "# separate data\n",
        "split = 2\n",
        "train,test = data[:split,:],data[split:,:]\n",
        "print(train)\n",
        "print(test)  "
      ],
      "execution_count": 0,
      "outputs": [
        {
          "output_type": "stream",
          "text": [
            "[[11 22 33]\n",
            " [44 55 66]]\n",
            "[[77 88 99]]\n"
          ],
          "name": "stdout"
        }
      ]
    },
    {
      "metadata": {
        "id": "8k2iWlP6S2dm",
        "colab_type": "text"
      },
      "cell_type": "markdown",
      "source": [
        "##  Array Reshaping"
      ]
    },
    {
      "metadata": {
        "id": "rIJWghtqSq-9",
        "colab_type": "code",
        "outputId": "9c39e928-995e-48c3-9c3a-00375dedc5c2",
        "colab": {
          "base_uri": "https://localhost:8080/",
          "height": 34
        }
      },
      "cell_type": "code",
      "source": [
        "# shape of one-dimensional array\n",
        "from numpy import array\n",
        "# define array\n",
        "data = array([11, 22, 33, 44, 55])\n",
        "print(data.shape)"
      ],
      "execution_count": 0,
      "outputs": [
        {
          "output_type": "stream",
          "text": [
            "(5,)\n"
          ],
          "name": "stdout"
        }
      ]
    },
    {
      "metadata": {
        "id": "x19sZRErTODi",
        "colab_type": "code",
        "outputId": "6e8d86fd-74bc-4fff-c511-ae29b4acef03",
        "colab": {
          "base_uri": "https://localhost:8080/",
          "height": 34
        }
      },
      "cell_type": "code",
      "source": [
        "# shape of a two-dimensional array\n",
        "from numpy import array\n",
        "# list of data\n",
        "data = [[11, 22],\n",
        "[33, 44],\n",
        "[55, 66]]\n",
        "# array of data\n",
        "data = array(data)\n",
        "print(data.shape)"
      ],
      "execution_count": 0,
      "outputs": [
        {
          "output_type": "stream",
          "text": [
            "(3, 2)\n"
          ],
          "name": "stdout"
        }
      ]
    },
    {
      "metadata": {
        "id": "QNo49B36TTMh",
        "colab_type": "code",
        "outputId": "8cd4ebeb-c3c4-418d-ad0a-580bf1b6bf2b",
        "colab": {
          "base_uri": "https://localhost:8080/",
          "height": 51
        }
      },
      "cell_type": "code",
      "source": [
        "# row and column shape of two-dimensional array\n",
        "from numpy import array\n",
        "# list of data\n",
        "data = [[11, 22],\n",
        " [33, 44],\n",
        " [55, 66]]\n",
        "# array of data\n",
        "data = array(data)\n",
        "print('Rows: %d' % data.shape[0]) \n",
        "print('Cols: %d' % data.shape[1])"
      ],
      "execution_count": 0,
      "outputs": [
        {
          "output_type": "stream",
          "text": [
            "Rows: 3\n",
            "Cols: 2\n"
          ],
          "name": "stdout"
        }
      ]
    },
    {
      "metadata": {
        "id": "HcP8dwj6TtW-",
        "colab_type": "text"
      },
      "cell_type": "markdown",
      "source": [
        "## Reshape 1D to 2D Array\n"
      ]
    },
    {
      "metadata": {
        "id": "j0fDLG9rTY4X",
        "colab_type": "code",
        "outputId": "09f31e6b-dcca-4f36-b837-5600e195e671",
        "colab": {
          "base_uri": "https://localhost:8080/",
          "height": 51
        }
      },
      "cell_type": "code",
      "source": [
        "# reshape 1D array to 2D\n",
        "from numpy import array\n",
        "# define array\n",
        "data = array([11, 22, 33, 44, 55])\n",
        "print(data.shape)\n",
        "# reshape\n",
        "data = data.reshape((data.shape[0], 1))\n",
        "print(data.shape)"
      ],
      "execution_count": 0,
      "outputs": [
        {
          "output_type": "stream",
          "text": [
            "(5,)\n",
            "(5, 1)\n"
          ],
          "name": "stdout"
        }
      ]
    },
    {
      "metadata": {
        "id": "iq5T53jKT02V",
        "colab_type": "code",
        "outputId": "a470fba0-5cf3-4161-c4ac-a24db9c9d287",
        "colab": {
          "base_uri": "https://localhost:8080/",
          "height": 102
        }
      },
      "cell_type": "code",
      "source": [
        "print(data)"
      ],
      "execution_count": 0,
      "outputs": [
        {
          "output_type": "stream",
          "text": [
            "[[11]\n",
            " [22]\n",
            " [33]\n",
            " [44]\n",
            " [55]]\n"
          ],
          "name": "stdout"
        }
      ]
    },
    {
      "metadata": {
        "id": "VKGwK4HJUKWL",
        "colab_type": "text"
      },
      "cell_type": "markdown",
      "source": [
        "## Reshape 2D to 3D Array"
      ]
    },
    {
      "metadata": {
        "id": "bolMTdRBUDZ6",
        "colab_type": "code",
        "outputId": "192ab200-0470-498b-c92f-3c8bddca4795",
        "colab": {
          "base_uri": "https://localhost:8080/",
          "height": 51
        }
      },
      "cell_type": "code",
      "source": [
        "# reshape 2D array to 3D\n",
        "from numpy import array\n",
        "# list of data\n",
        "data = [[11, 22],\n",
        "[33, 44],\n",
        "[55, 66]]\n",
        "# array of data\n",
        "data = array(data)\n",
        "print(data.shape)\n",
        "# reshape\n",
        "data = data.reshape((data.shape[0], data.shape[1], 1))\n",
        "print(data.shape)"
      ],
      "execution_count": 0,
      "outputs": [
        {
          "output_type": "stream",
          "text": [
            "(3, 2)\n",
            "(3, 2, 1)\n"
          ],
          "name": "stdout"
        }
      ]
    },
    {
      "metadata": {
        "id": "UVEFwhirUXxA",
        "colab_type": "code",
        "outputId": "c02d17b3-4901-4c5e-996e-90cfa10f1e2a",
        "colab": {
          "base_uri": "https://localhost:8080/",
          "height": 153
        }
      },
      "cell_type": "code",
      "source": [
        "print(data)"
      ],
      "execution_count": 0,
      "outputs": [
        {
          "output_type": "stream",
          "text": [
            "[[[11]\n",
            "  [22]]\n",
            "\n",
            " [[33]\n",
            "  [44]]\n",
            "\n",
            " [[55]\n",
            "  [66]]]\n"
          ],
          "name": "stdout"
        }
      ]
    },
    {
      "metadata": {
        "id": "qZUJdRB3Z6W9",
        "colab_type": "text"
      },
      "cell_type": "markdown",
      "source": [
        "## Array Broadcasting\n"
      ]
    },
    {
      "metadata": {
        "id": "UZIXpwRRUhyG",
        "colab_type": "code",
        "outputId": "5cbaf433-ff49-473c-bfe6-fbd6e6559d2b",
        "colab": {
          "base_uri": "https://localhost:8080/",
          "height": 85
        }
      },
      "cell_type": "code",
      "source": [
        "# broadcast scalar to one-dimensional array\n",
        "from numpy import array\n",
        "# define array\n",
        "a = array([1, 2, 3])\n",
        "print(a)\n",
        "print(a.shape)\n",
        "# define scalar\n",
        "b=2 \n",
        "print(b)\n",
        "# print(b.shape)\n",
        "# broadcast \n",
        "c=a+b\n",
        "print(c)"
      ],
      "execution_count": 0,
      "outputs": [
        {
          "output_type": "stream",
          "text": [
            "[1 2 3]\n",
            "(3,)\n",
            "2\n",
            "[3 4 5]\n"
          ],
          "name": "stdout"
        }
      ]
    },
    {
      "metadata": {
        "id": "havZJ5oaaAxm",
        "colab_type": "code",
        "outputId": "a0521c8d-1fad-4111-9209-670e924e3b57",
        "colab": {
          "base_uri": "https://localhost:8080/",
          "height": 136
        }
      },
      "cell_type": "code",
      "source": [
        "# broadcast one-dimensional array to two-dimensional array\n",
        "from numpy import array\n",
        "# define two-dimensional array\n",
        "A = array([\n",
        "[1, 2, 3],\n",
        "[1, 2, 3]])\n",
        "print(A)\n",
        "print(A.shape)\n",
        "# define one-dimensional array \n",
        "b = array([1, 2, 3])\n",
        "print(b)\n",
        "print(b.shape)\n",
        "# broadcast\n",
        "C=A+b\n",
        "print(C)"
      ],
      "execution_count": 0,
      "outputs": [
        {
          "output_type": "stream",
          "text": [
            "[[1 2 3]\n",
            " [1 2 3]]\n",
            "(2, 3)\n",
            "[1 2 3]\n",
            "(3,)\n",
            "[[2 4 6]\n",
            " [2 4 6]]\n"
          ],
          "name": "stdout"
        }
      ]
    },
    {
      "metadata": {
        "id": "-SZqtCpfhpE6",
        "colab_type": "code",
        "outputId": "8fe712b7-fb1a-4942-ce16-80ef17d94c34",
        "colab": {
          "base_uri": "https://localhost:8080/",
          "height": 4420
        }
      },
      "cell_type": "code",
      "source": [
        "import numpy as np\n",
        "\n",
        "x = np.random.random((64, 3, 32, 10))\n",
        "y = np.random.random((32, 10))\n",
        "\n",
        "z = np.maximum(x, y)\n",
        "print(z)\n"
      ],
      "execution_count": 0,
      "outputs": [
        {
          "output_type": "stream",
          "text": [
            "[[[[0.9483574  0.63370856 0.60249399 ... 0.45271774 0.93409257\n",
            "    0.49993419]\n",
            "   [0.50070777 0.88226051 0.8822172  ... 0.15039384 0.82277674\n",
            "    0.15272299]\n",
            "   [0.75639787 0.23860389 0.8373985  ... 0.47458561 0.8027014\n",
            "    0.75808878]\n",
            "   ...\n",
            "   [0.99742034 0.84766191 0.35453016 ... 0.20157935 0.14594041\n",
            "    0.93555595]\n",
            "   [0.98003621 0.5829339  0.98127838 ... 0.84821052 0.72099762\n",
            "    0.60982079]\n",
            "   [0.30675659 0.91932964 0.94678142 ... 0.73863481 0.94496858\n",
            "    0.12233423]]\n",
            "\n",
            "  [[0.9483574  0.45186088 0.84590154 ... 0.39628905 0.54118514\n",
            "    0.32041433]\n",
            "   [0.50070777 0.88226051 0.88949399 ... 0.60158675 0.63819602\n",
            "    0.85749394]\n",
            "   [0.75639787 0.60075607 0.8373985  ... 0.7776064  0.8027014\n",
            "    0.73372846]\n",
            "   ...\n",
            "   [0.86975094 0.84766191 0.58152097 ... 0.20157935 0.97919704\n",
            "    0.93555595]\n",
            "   [0.89311911 0.5829339  0.98127838 ... 0.84821052 0.63291245\n",
            "    0.48057277]\n",
            "   [0.34944279 0.91932964 0.88543806 ... 0.79868528 0.44691742\n",
            "    0.31301432]]\n",
            "\n",
            "  [[0.9483574  0.45186088 0.65463854 ... 0.39628905 0.54118514\n",
            "    0.18532265]\n",
            "   [0.50070777 0.88226051 0.8822172  ... 0.15039384 0.63819602\n",
            "    0.99811481]\n",
            "   [0.75639787 0.44138346 0.88754844 ... 0.47046116 0.8027014\n",
            "    0.94848262]\n",
            "   ...\n",
            "   [0.60908847 0.84766191 0.31263782 ... 0.68844504 0.11953535\n",
            "    0.93555595]\n",
            "   [0.89311911 0.5829339  0.98127838 ... 0.84821052 0.45099042\n",
            "    0.46795014]\n",
            "   [0.30675659 0.91932964 0.88181326 ... 0.73863481 0.15913995\n",
            "    0.12233423]]]\n",
            "\n",
            "\n",
            " [[[0.9483574  0.5025644  0.84080979 ... 0.44312284 0.65281311\n",
            "    0.83877654]\n",
            "   [0.75711015 0.88226051 0.9192873  ... 0.75076264 0.92856825\n",
            "    0.58398899]\n",
            "   [0.87249517 0.99268224 0.8373985  ... 0.73804739 0.8027014\n",
            "    0.73372846]\n",
            "   ...\n",
            "   [0.99116112 0.84766191 0.8090853  ... 0.54732771 0.92929657\n",
            "    0.93555595]\n",
            "   [0.89311911 0.5829339  0.98127838 ... 0.91439074 0.22479031\n",
            "    0.45460627]\n",
            "   [0.86011857 0.91932964 0.88181326 ... 0.73863481 0.33305875\n",
            "    0.12233423]]\n",
            "\n",
            "  [[0.9483574  0.45186088 0.58994454 ... 0.99753864 0.79930183\n",
            "    0.95034892]\n",
            "   [0.50070777 0.88226051 0.8822172  ... 0.98309159 0.63819602\n",
            "    0.89414791]\n",
            "   [0.75639787 0.75027366 0.8373985  ... 0.63916097 0.82549988\n",
            "    0.93349295]\n",
            "   ...\n",
            "   [0.60908847 0.94597838 0.75352749 ... 0.30363701 0.57825531\n",
            "    0.93555595]\n",
            "   [0.89311911 0.67712542 0.99584564 ... 0.84821052 0.22479031\n",
            "    0.45460627]\n",
            "   [0.93380197 0.91932964 0.88181326 ... 0.85970724 0.73531891\n",
            "    0.59675456]]\n",
            "\n",
            "  [[0.9483574  0.92962154 0.99303212 ... 0.64838784 0.54492754\n",
            "    0.95075805]\n",
            "   [0.50070777 0.88226051 0.8822172  ... 0.21578178 0.63819602\n",
            "    0.66532075]\n",
            "   [0.75639787 0.40241244 0.8373985  ... 0.47046116 0.8027014\n",
            "    0.73372846]\n",
            "   ...\n",
            "   [0.78290952 0.86655651 0.31263782 ... 0.20182332 0.39645452\n",
            "    0.93555595]\n",
            "   [0.89311911 0.5829339  0.98127838 ... 0.94380141 0.28874633\n",
            "    0.45460627]\n",
            "   [0.54930127 0.91932964 0.88181326 ... 0.98315398 0.54283619\n",
            "    0.12233423]]]\n",
            "\n",
            "\n",
            " [[[0.94847327 0.82522405 0.96573745 ... 0.81972402 0.54118514\n",
            "    0.18532265]\n",
            "   [0.74154181 0.88226051 0.8822172  ... 0.69812573 0.81715928\n",
            "    0.91889643]\n",
            "   [0.75639787 0.58478191 0.8373985  ... 0.66005049 0.8027014\n",
            "    0.85715304]\n",
            "   ...\n",
            "   [0.6746702  0.84766191 0.31263782 ... 0.53553473 0.6533708\n",
            "    0.93555595]\n",
            "   [0.89311911 0.61497817 0.98127838 ... 0.84821052 0.46232047\n",
            "    0.49272737]\n",
            "   [0.76470718 0.91932964 0.88181326 ... 0.92013807 0.78826479\n",
            "    0.12233423]]\n",
            "\n",
            "  [[0.9483574  0.66627817 0.65239424 ... 0.39628905 0.81473455\n",
            "    0.76499381]\n",
            "   [0.80003505 0.88226051 0.8822172  ... 0.46831043 0.63819602\n",
            "    0.77465575]\n",
            "   [0.80899387 0.23354678 0.8832093  ... 0.67658031 0.8027014\n",
            "    0.73372846]\n",
            "   ...\n",
            "   [0.60908847 0.84766191 0.5641679  ... 0.5500473  0.26307011\n",
            "    0.93555595]\n",
            "   [0.89311911 0.7880367  0.98127838 ... 0.84821052 0.82334021\n",
            "    0.81485155]\n",
            "   [0.30675659 0.91932964 0.88181326 ... 0.73863481 0.78269745\n",
            "    0.49671332]]\n",
            "\n",
            "  [[0.9483574  0.66927195 0.40057565 ... 0.68033382 0.5734253\n",
            "    0.52336104]\n",
            "   [0.92243683 0.88226051 0.8822172  ... 0.86426172 0.63819602\n",
            "    0.54603428]\n",
            "   [0.75639787 0.38243186 0.8373985  ... 0.47046116 0.8027014\n",
            "    0.73372846]\n",
            "   ...\n",
            "   [0.70399441 0.84766191 0.81792407 ... 0.4208628  0.10632598\n",
            "    0.93555595]\n",
            "   [0.89311911 0.80041792 0.98127838 ... 0.84821052 0.39652244\n",
            "    0.53327182]\n",
            "   [0.55109528 0.91932964 0.88181326 ... 0.73863481 0.89806672\n",
            "    0.12233423]]]\n",
            "\n",
            "\n",
            " ...\n",
            "\n",
            "\n",
            " [[[0.9483574  0.46366272 0.48638149 ... 0.42287032 0.65469995\n",
            "    0.25702798]\n",
            "   [0.50070777 0.88226051 0.8822172  ... 0.36495698 0.9757136\n",
            "    0.19006008]\n",
            "   [0.75639787 0.79698633 0.98488278 ... 0.47046116 0.8027014\n",
            "    0.73372846]\n",
            "   ...\n",
            "   [0.60908847 0.84766191 0.49347156 ... 0.80685219 0.8514926\n",
            "    0.93555595]\n",
            "   [0.89311911 0.83594715 0.98127838 ... 0.84821052 0.48394676\n",
            "    0.45460627]\n",
            "   [0.30675659 0.91932964 0.88181326 ... 0.73863481 0.62250186\n",
            "    0.17107576]]\n",
            "\n",
            "  [[0.9483574  0.66717908 0.38809647 ... 0.47765788 0.88797041\n",
            "    0.35112945]\n",
            "   [0.90524606 0.88226051 0.8822172  ... 0.36264199 0.63819602\n",
            "    0.97968836]\n",
            "   [0.75639787 0.81579531 0.8373985  ... 0.47046116 0.92342525\n",
            "    0.73372846]\n",
            "   ...\n",
            "   [0.60908847 0.84766191 0.31263782 ... 0.55263268 0.95754366\n",
            "    0.93555595]\n",
            "   [0.89311911 0.5829339  0.98127838 ... 0.89007928 0.59993621\n",
            "    0.85198465]\n",
            "   [0.30675659 0.91932964 0.88181326 ... 0.73863481 0.32449821\n",
            "    0.88499292]]\n",
            "\n",
            "  [[0.9483574  0.69258768 0.72250677 ... 0.87561648 0.97441687\n",
            "    0.32099625]\n",
            "   [0.50070777 0.88226051 0.8822172  ... 0.38880223 0.63819602\n",
            "    0.8685984 ]\n",
            "   [0.75639787 0.40218414 0.8373985  ... 0.7930464  0.8027014\n",
            "    0.95931932]\n",
            "   ...\n",
            "   [0.60908847 0.84766191 0.37238742 ... 0.20157935 0.50919057\n",
            "    0.93555595]\n",
            "   [0.89311911 0.80186701 0.98127838 ... 0.84821052 0.46637769\n",
            "    0.45460627]\n",
            "   [0.90930786 0.91932964 0.88181326 ... 0.73863481 0.29015767\n",
            "    0.82819247]]]\n",
            "\n",
            "\n",
            " [[[0.9483574  0.45186088 0.70519194 ... 0.93399872 0.89781994\n",
            "    0.33662873]\n",
            "   [0.50070777 0.88226051 0.8822172  ... 0.45721321 0.87930444\n",
            "    0.38261986]\n",
            "   [0.75639787 0.41733787 0.8373985  ... 0.86475361 0.8027014\n",
            "    0.80894704]\n",
            "   ...\n",
            "   [0.60908847 0.84766191 0.31331743 ... 0.62921538 0.63755853\n",
            "    0.93555595]\n",
            "   [0.89311911 0.5829339  0.98127838 ... 0.84821052 0.79017088\n",
            "    0.45460627]\n",
            "   [0.89760486 0.91932964 0.99191435 ... 0.73863481 0.60731649\n",
            "    0.79177252]]\n",
            "\n",
            "  [[0.9483574  0.45186088 0.84305202 ... 0.39628905 0.64328229\n",
            "    0.18532265]\n",
            "   [0.78412266 0.88226051 0.8822172  ... 0.15039384 0.63819602\n",
            "    0.1353471 ]\n",
            "   [0.75639787 0.85938475 0.8373985  ... 0.47046116 0.8027014\n",
            "    0.73372846]\n",
            "   ...\n",
            "   [0.60908847 0.84766191 0.31263782 ... 0.92529634 0.27108715\n",
            "    0.93555595]\n",
            "   [0.9553629  0.5829339  0.98127838 ... 0.97671892 0.38236868\n",
            "    0.45460627]\n",
            "   [0.54346175 0.96918058 0.88181326 ... 0.99071994 0.92821074\n",
            "    0.1821231 ]]\n",
            "\n",
            "  [[0.9483574  0.98836418 0.38809647 ... 0.44136699 0.71354302\n",
            "    0.18532265]\n",
            "   [0.65935172 0.88226051 0.8822172  ... 0.21235579 0.63819602\n",
            "    0.69022734]\n",
            "   [0.75639787 0.83315049 0.8373985  ... 0.49432262 0.8027014\n",
            "    0.92148243]\n",
            "   ...\n",
            "   [0.63934838 0.84766191 0.44542619 ... 0.44623859 0.34540392\n",
            "    0.93555595]\n",
            "   [0.89311911 0.5829339  0.98127838 ... 0.84821052 0.28103378\n",
            "    0.49829184]\n",
            "   [0.89129353 0.91932964 0.88181326 ... 0.74831664 0.92513413\n",
            "    0.7295433 ]]]\n",
            "\n",
            "\n",
            " [[[0.9483574  0.85967251 0.38809647 ... 0.39628905 0.54118514\n",
            "    0.24597636]\n",
            "   [0.50070777 0.98835304 0.8822172  ... 0.47153331 0.63819602\n",
            "    0.29103791]\n",
            "   [0.75639787 0.35505128 0.8373985  ... 0.47046116 0.85573507\n",
            "    0.73372846]\n",
            "   ...\n",
            "   [0.60908847 0.84766191 0.60161505 ... 0.46225104 0.05714638\n",
            "    0.93555595]\n",
            "   [0.89311911 0.5829339  0.98127838 ... 0.84821052 0.87558559\n",
            "    0.45460627]\n",
            "   [0.91761915 0.91932964 0.88181326 ... 0.73863481 0.27298364\n",
            "    0.71098554]]\n",
            "\n",
            "  [[0.97053441 0.45186088 0.64349387 ... 0.64164523 0.54118514\n",
            "    0.53539248]\n",
            "   [0.50940739 0.88226051 0.8822172  ... 0.29529064 0.63819602\n",
            "    0.59334179]\n",
            "   [0.75639787 0.48938059 0.96389744 ... 0.51693515 0.8027014\n",
            "    0.73372846]\n",
            "   ...\n",
            "   [0.60908847 0.84766191 0.8515231  ... 0.44630692 0.44936006\n",
            "    0.93555595]\n",
            "   [0.89311911 0.5829339  0.98127838 ... 0.84821052 0.75444015\n",
            "    0.99040062]\n",
            "   [0.80604247 0.91932964 0.88181326 ... 0.73863481 0.49142935\n",
            "    0.2456557 ]]\n",
            "\n",
            "  [[0.9483574  0.54166307 0.61781319 ... 0.75511531 0.63779221\n",
            "    0.91621107]\n",
            "   [0.50070777 0.88226051 0.8822172  ... 0.77497869 0.63819602\n",
            "    0.76344148]\n",
            "   [0.75639787 0.25063862 0.8373985  ... 0.47046116 0.8027014\n",
            "    0.73372846]\n",
            "   ...\n",
            "   [0.90133063 0.94635243 0.31263782 ... 0.88605985 0.09406497\n",
            "    0.95725256]\n",
            "   [0.89311911 0.5829339  0.98127838 ... 0.9418124  0.89556851\n",
            "    0.45460627]\n",
            "   [0.8097651  0.91932964 0.88181326 ... 0.73863481 0.85222848\n",
            "    0.66537758]]]]\n"
          ],
          "name": "stdout"
        }
      ]
    },
    {
      "metadata": {
        "id": "bCLb4gWecQMK",
        "colab_type": "text"
      },
      "cell_type": "markdown",
      "source": [
        "## Vector"
      ]
    },
    {
      "metadata": {
        "id": "JrXc9qXPayBg",
        "colab_type": "code",
        "outputId": "9635aa51-d527-43a5-be4b-10ce00fbb5de",
        "colab": {
          "base_uri": "https://localhost:8080/",
          "height": 34
        }
      },
      "cell_type": "code",
      "source": [
        "# create a vector\n",
        "from numpy import array\n",
        "# define vector\n",
        "v = array([1, 2, 3])\n",
        "print(v)"
      ],
      "execution_count": 0,
      "outputs": [
        {
          "output_type": "stream",
          "text": [
            "[1 2 3]\n"
          ],
          "name": "stdout"
        }
      ]
    },
    {
      "metadata": {
        "id": "hkCo-zAicRrk",
        "colab_type": "code",
        "outputId": "37c6eb6b-c513-4cf4-af35-2626beebb491",
        "colab": {
          "base_uri": "https://localhost:8080/",
          "height": 68
        }
      },
      "cell_type": "code",
      "source": [
        "# vector division\n",
        "from numpy import array\n",
        "# define first vector\n",
        "a = array([1, 2, 3])\n",
        "print(a)\n",
        "# define second vector\n",
        "b = array([1, 2, 3]) \n",
        "print(b)\n",
        "# divide vectors \n",
        "c=a/b\n",
        "print(c)"
      ],
      "execution_count": 0,
      "outputs": [
        {
          "output_type": "stream",
          "text": [
            "[1 2 3]\n",
            "[1 2 3]\n",
            "[1. 1. 1.]\n"
          ],
          "name": "stdout"
        }
      ]
    },
    {
      "metadata": {
        "id": "M5SRNChIdDjD",
        "colab_type": "text"
      },
      "cell_type": "markdown",
      "source": [
        "## Vector Dot Product"
      ]
    },
    {
      "metadata": {
        "id": "al5emDczcxkZ",
        "colab_type": "code",
        "outputId": "ca6dd259-af77-4275-b79f-de98de560401",
        "colab": {
          "base_uri": "https://localhost:8080/",
          "height": 68
        }
      },
      "cell_type": "code",
      "source": [
        "# vector dot product\n",
        "from numpy import array\n",
        "# define first vector\n",
        "a = array([1, 2, 3])\n",
        "print(a)\n",
        "# define second vector\n",
        "b = array([1, 2, 3])\n",
        "print(b)\n",
        "# multiply vectors\n",
        "c = a.dot(b)\n",
        "print(c)"
      ],
      "execution_count": 0,
      "outputs": [
        {
          "output_type": "stream",
          "text": [
            "[1 2 3]\n",
            "[1 2 3]\n",
            "14\n"
          ],
          "name": "stdout"
        }
      ]
    },
    {
      "metadata": {
        "id": "3YmhqMgjdFll",
        "colab_type": "code",
        "colab": {}
      },
      "cell_type": "code",
      "source": [
        "# triangular matrices\n",
        "from numpy import array\n",
        "from numpy import tril\n",
        "from numpy import triu\n",
        "# define square matrix\n",
        "M = array([\n",
        "  [1, 2, 3],\n",
        "  [1, 2, 3],\n",
        "  [1, 2, 3]])\n",
        "print(M)\n",
        "# lower triangular matrix\n",
        "lower = tril(M)\n",
        "print(lower)\n",
        "# upper triangular matrix\n",
        "upper = triu(M)\n",
        "print(upper)"
      ],
      "execution_count": 0,
      "outputs": []
    },
    {
      "metadata": {
        "id": "RByFBWLK4yhX",
        "colab_type": "code",
        "outputId": "1991d8a4-50f1-4a74-f376-b7b76828866f",
        "colab": {
          "base_uri": "https://localhost:8080/",
          "height": 85
        }
      },
      "cell_type": "code",
      "source": [
        "# matrix trace\n",
        "from numpy import array\n",
        "from numpy import trace\n",
        "# define matrix\n",
        "A = array([\n",
        "  [1, 2, 3],\n",
        "  [4, 5, 6],\n",
        "  [7, 8, 9]])\n",
        "print(A)\n",
        "# calculate trace\n",
        "B = trace(A)\n",
        "print(B)"
      ],
      "execution_count": 0,
      "outputs": [
        {
          "output_type": "stream",
          "text": [
            "[[1 2 3]\n",
            " [4 5 6]\n",
            " [7 8 9]]\n",
            "15\n"
          ],
          "name": "stdout"
        }
      ]
    },
    {
      "metadata": {
        "id": "u3rijjrZ4dJ0",
        "colab_type": "code",
        "outputId": "3cb568cc-0abc-4a14-d229-4e86e8356e27",
        "colab": {
          "base_uri": "https://localhost:8080/",
          "height": 85
        }
      },
      "cell_type": "code",
      "source": [
        "# matrix determinant\n",
        "from numpy import array\n",
        "from numpy.linalg import det\n",
        "# define matrix\n",
        "A = array([\n",
        "  [1, 2, 3],\n",
        "  [4, 5, 6],\n",
        "  [7, 8, 9]])\n",
        "print(A)\n",
        "# calculate determinant\n",
        "B = det(A)\n",
        "print(B)"
      ],
      "execution_count": 0,
      "outputs": [
        {
          "output_type": "stream",
          "text": [
            "[[1 2 3]\n",
            " [4 5 6]\n",
            " [7 8 9]]\n",
            "0.0\n"
          ],
          "name": "stdout"
        }
      ]
    },
    {
      "metadata": {
        "id": "ogXFHXoY5jAU",
        "colab_type": "code",
        "outputId": "752940a2-d261-47b2-aa1f-3292dc9b4723",
        "colab": {
          "base_uri": "https://localhost:8080/",
          "height": 85
        }
      },
      "cell_type": "code",
      "source": [
        "# vector rank\n",
        "from numpy import array\n",
        "from numpy.linalg import matrix_rank\n",
        "# rank\n",
        "v1 = array([1,2,3])\n",
        "print(v1)\n",
        "vr1 = matrix_rank(v1)\n",
        "print(vr1)\n",
        "# zero rank\n",
        "v2 = array([0,0,0,0,0])\n",
        "print(v2)\n",
        "vr2 = matrix_rank(v2)\n",
        "print(vr2)"
      ],
      "execution_count": 0,
      "outputs": [
        {
          "output_type": "stream",
          "text": [
            "[1 2 3]\n",
            "1\n",
            "[0 0 0 0 0]\n",
            "0\n"
          ],
          "name": "stdout"
        }
      ]
    },
    {
      "metadata": {
        "id": "85FMI9ce5qul",
        "colab_type": "code",
        "outputId": "13583fc8-6f9f-4eb0-a2dc-74b55a982c8a",
        "colab": {
          "base_uri": "https://localhost:8080/",
          "height": 170
        }
      },
      "cell_type": "code",
      "source": [
        "# matrix rank\n",
        "from numpy import array\n",
        "from numpy.linalg import matrix_rank\n",
        "# rank 0\n",
        "M0 = array([\n",
        "[0,0],\n",
        "  [0,0]])\n",
        "print(M0)\n",
        "mr0 = matrix_rank(M0)\n",
        "print(mr0)\n",
        "# rank 1\n",
        "M1 = array([\n",
        "[1,2],\n",
        "  [1,2]])\n",
        "print(M1)\n",
        "mr1 = matrix_rank(M1)\n",
        "print(mr1)\n",
        "# rank 2\n",
        "M2 = array([\n",
        "[1,2],\n",
        "  [3,14]])\n",
        "print(M2)\n",
        "mr2 = matrix_rank(M2)\n",
        "print(mr2)"
      ],
      "execution_count": 0,
      "outputs": [
        {
          "output_type": "stream",
          "text": [
            "[[0 0]\n",
            " [0 0]]\n",
            "0\n",
            "[[1 2]\n",
            " [1 2]]\n",
            "1\n",
            "[[ 1  2]\n",
            " [ 3 14]]\n",
            "2\n"
          ],
          "name": "stdout"
        }
      ]
    },
    {
      "metadata": {
        "id": "O4-UmkVr7541",
        "colab_type": "text"
      },
      "cell_type": "markdown",
      "source": [
        "## Sparse Matrices"
      ]
    },
    {
      "metadata": {
        "id": "OEVasxDJ7qJ9",
        "colab_type": "code",
        "outputId": "9b863058-5aa3-41f9-9bf8-99657d17477d",
        "colab": {
          "base_uri": "https://localhost:8080/",
          "height": 204
        }
      },
      "cell_type": "code",
      "source": [
        "# sparse matrix\n",
        "from numpy import array\n",
        "from scipy.sparse import csr_matrix\n",
        "# create dense matrix\n",
        "A = array([\n",
        "  [1, 0, 0, 1, 0, 0],\n",
        "  [0, 0, 2, 0, 0, 1],\n",
        "  [0, 0, 0, 2, 0, 0]])\n",
        "print(A)\n",
        "# convert to sparse matrix (CSR method)\n",
        "S = csr_matrix(A)\n",
        "# S tells us where the non-zero value is located\n",
        "print(S)\n",
        "# reconstruct dense matrix\n",
        "B = S.todense()\n",
        "print(B)"
      ],
      "execution_count": 0,
      "outputs": [
        {
          "output_type": "stream",
          "text": [
            "[[1 0 0 1 0 0]\n",
            " [0 0 2 0 0 1]\n",
            " [0 0 0 2 0 0]]\n",
            "  (0, 0)\t1\n",
            "  (0, 3)\t1\n",
            "  (1, 2)\t2\n",
            "  (1, 5)\t1\n",
            "  (2, 3)\t2\n",
            "[[1 0 0 1 0 0]\n",
            " [0 0 2 0 0 1]\n",
            " [0 0 0 2 0 0]]\n"
          ],
          "name": "stdout"
        }
      ]
    },
    {
      "metadata": {
        "id": "ysC_Oo-U8DB3",
        "colab_type": "text"
      },
      "cell_type": "markdown",
      "source": [
        "We can also calculate sparsity like such"
      ]
    },
    {
      "metadata": {
        "id": "54A9IJ2z6zZG",
        "colab_type": "code",
        "outputId": "9cc1797f-c650-4378-f844-ea7d189dcf38",
        "colab": {
          "base_uri": "https://localhost:8080/",
          "height": 85
        }
      },
      "cell_type": "code",
      "source": [
        "# sparsity calculation\n",
        "from numpy import array\n",
        "from numpy import count_nonzero\n",
        "# create dense matrix\n",
        "A = array([\n",
        "  [1, 0, 0, 1, 0, 0],\n",
        "  [0, 0, 2, 0, 0, 1],\n",
        "  [0, 0, 0, 2, 0, 0]])\n",
        "print(A)\n",
        "# calculate sparsity\n",
        "sparsity = 1.0 - count_nonzero(A) / A.size\n",
        "print(sparsity)"
      ],
      "execution_count": 0,
      "outputs": [
        {
          "output_type": "stream",
          "text": [
            "[[1 0 0 1 0 0]\n",
            " [0 0 2 0 0 1]\n",
            " [0 0 0 2 0 0]]\n",
            "0.7222222222222222\n"
          ],
          "name": "stdout"
        }
      ]
    },
    {
      "metadata": {
        "id": "I-oA6Opi8Q8X",
        "colab_type": "text"
      },
      "cell_type": "markdown",
      "source": [
        "Other example"
      ]
    },
    {
      "metadata": {
        "id": "r7ltCaWH8Bhq",
        "colab_type": "code",
        "outputId": "bc16398b-3118-4eb9-d381-9da16c5edcea",
        "colab": {
          "base_uri": "https://localhost:8080/",
          "height": 85
        }
      },
      "cell_type": "code",
      "source": [
        "# sparsity calculation\n",
        "from numpy import array\n",
        "from numpy import count_nonzero\n",
        "# create dense matrix\n",
        "A = array([\n",
        "  [1, 2, 3, 2, 0, 0],\n",
        "  [0, 0, 4, 0, 1, 2],\n",
        "  [0, 0, 0, 4, 0, 0]])\n",
        "print(A)\n",
        "# calculate sparsity\n",
        "sparsity = 1.0 - count_nonzero(A) / A.size\n",
        "print(sparsity)"
      ],
      "execution_count": 0,
      "outputs": [
        {
          "output_type": "stream",
          "text": [
            "[[1 2 3 2 0 0]\n",
            " [0 0 4 0 1 2]\n",
            " [0 0 0 4 0 0]]\n",
            "0.5555555555555556\n"
          ],
          "name": "stdout"
        }
      ]
    },
    {
      "metadata": {
        "id": "aJRvS4ny-KYi",
        "colab_type": "text"
      },
      "cell_type": "markdown",
      "source": [
        "## Tensors"
      ]
    },
    {
      "metadata": {
        "id": "lYipEAaB8WSH",
        "colab_type": "code",
        "outputId": "80878a28-6c7f-4a65-cf8f-5a21d5c5385d",
        "colab": {
          "base_uri": "https://localhost:8080/",
          "height": 204
        }
      },
      "cell_type": "code",
      "source": [
        "# tensor addition\n",
        "from numpy import array\n",
        "# define first tensor\n",
        "A = array([\n",
        "[[1,2,3], [4,5,6], [7,8,9]], [[11,12,13], [14,15,16], [17,18,19]], [[21,22,23], [24,25,26], [27,28,29]]])\n",
        "# define second tensor\n",
        "B = array([\n",
        "[[1,2,3], [4,5,6], [7,8,9]], [[11,12,13], [14,15,16], [17,18,19]], [[21,22,23], [24,25,26], [27,28,29]]])\n",
        "# add tensors\n",
        "C=A+B\n",
        "print(C)"
      ],
      "execution_count": 0,
      "outputs": [
        {
          "output_type": "stream",
          "text": [
            "[[[ 2  4  6]\n",
            "  [ 8 10 12]\n",
            "  [14 16 18]]\n",
            "\n",
            " [[22 24 26]\n",
            "  [28 30 32]\n",
            "  [34 36 38]]\n",
            "\n",
            " [[42 44 46]\n",
            "  [48 50 52]\n",
            "  [54 56 58]]]\n"
          ],
          "name": "stdout"
        }
      ]
    },
    {
      "metadata": {
        "id": "UhAKovA2-Mb_",
        "colab_type": "code",
        "outputId": "c3043816-fa80-44ba-b751-a7329dd1db51",
        "colab": {
          "base_uri": "https://localhost:8080/",
          "height": 204
        }
      },
      "cell_type": "code",
      "source": [
        "# tensor subtraction\n",
        "from numpy import array\n",
        "# define first tensor\n",
        "A = array([\n",
        "[[1,2,3], [4,5,6], [7,8,9]], [[11,12,13], [14,15,16], [17,18,19]], [[21,22,23], [24,25,26], [27,28,29]]])\n",
        "# define second tensor\n",
        "B = array([\n",
        "[[1,2,3], [4,5,6], [7,8,9]], [[11,12,13], [14,15,16], [17,18,19]], [[21,22,23], [24,25,26], [27,28,29]]])\n",
        "# subtract tensors\n",
        "C=A-B\n",
        "print(C)"
      ],
      "execution_count": 0,
      "outputs": [
        {
          "output_type": "stream",
          "text": [
            "[[[0 0 0]\n",
            "  [0 0 0]\n",
            "  [0 0 0]]\n",
            "\n",
            " [[0 0 0]\n",
            "  [0 0 0]\n",
            "  [0 0 0]]\n",
            "\n",
            " [[0 0 0]\n",
            "  [0 0 0]\n",
            "  [0 0 0]]]\n"
          ],
          "name": "stdout"
        }
      ]
    },
    {
      "metadata": {
        "id": "B8sZR4ek-b95",
        "colab_type": "text"
      },
      "cell_type": "markdown",
      "source": [
        "Here, we will use the ◦ operator to indicate the Hadamard product operation between tensors."
      ]
    },
    {
      "metadata": {
        "id": "JKw10nNH-TZg",
        "colab_type": "code",
        "outputId": "6d4f7200-2727-4e47-f7f7-d0e69758b141",
        "colab": {
          "base_uri": "https://localhost:8080/",
          "height": 204
        }
      },
      "cell_type": "code",
      "source": [
        "# tensor Hadamard product\n",
        "from numpy import array\n",
        "# define first tensor\n",
        "A = array([\n",
        "[[1,2,3], [4,5,6], [7,8,9]], [[11,12,13], [14,15,16], [17,18,19]], [[21,22,23], [24,25,26], [27,28,29]]])\n",
        "# define second tensor\n",
        "B = array([\n",
        "[[1,2,3], [4,5,6], [7,8,9]], [[11,12,13], [14,15,16], [17,18,19]], [[21,22,23], [24,25,26], [27,28,29]]])\n",
        "# multiply tensors\n",
        "C=A*B\n",
        "print(C)"
      ],
      "execution_count": 0,
      "outputs": [
        {
          "output_type": "stream",
          "text": [
            "[[[  1   4   9]\n",
            "  [ 16  25  36]\n",
            "  [ 49  64  81]]\n",
            "\n",
            " [[121 144 169]\n",
            "  [196 225 256]\n",
            "  [289 324 361]]\n",
            "\n",
            " [[441 484 529]\n",
            "  [576 625 676]\n",
            "  [729 784 841]]]\n"
          ],
          "name": "stdout"
        }
      ]
    },
    {
      "metadata": {
        "id": "toWoIgDF-ejG",
        "colab_type": "code",
        "outputId": "f14d8851-147b-4bca-a70e-eadbff04fcce",
        "colab": {
          "base_uri": "https://localhost:8080/",
          "height": 204
        }
      },
      "cell_type": "code",
      "source": [
        "# tensor division\n",
        "from numpy import array\n",
        "# define first tensor\n",
        "A = array([\n",
        "[[1,2,3], [4,5,6], [7,8,9]], [[11,12,13], [14,15,16], [17,18,19]], [[21,22,23], [24,25,26], [27,28,29]]])\n",
        "# define second tensor\n",
        "B = array([\n",
        "[[1,2,3], [4,5,6], [7,8,9]], [[11,12,13], [14,15,16], [17,18,19]], [[21,22,23], [24,25,26], [27,28,29]]])\n",
        "# divide tensors\n",
        "C=A/B\n",
        "print(C)"
      ],
      "execution_count": 0,
      "outputs": [
        {
          "output_type": "stream",
          "text": [
            "[[[1. 1. 1.]\n",
            "  [1. 1. 1.]\n",
            "  [1. 1. 1.]]\n",
            "\n",
            " [[1. 1. 1.]\n",
            "  [1. 1. 1.]\n",
            "  [1. 1. 1.]]\n",
            "\n",
            " [[1. 1. 1.]\n",
            "  [1. 1. 1.]\n",
            "  [1. 1. 1.]]]\n"
          ],
          "name": "stdout"
        }
      ]
    },
    {
      "metadata": {
        "id": "SEFC3sHo-m2Q",
        "colab_type": "code",
        "outputId": "e40a4fdc-fb58-422a-da3f-481455f6fa7a",
        "colab": {
          "base_uri": "https://localhost:8080/",
          "height": 102
        }
      },
      "cell_type": "code",
      "source": [
        "# tensor product\n",
        "from numpy import array\n",
        "from numpy import tensordot\n",
        "# define first vector\n",
        "A = array([1,2])\n",
        "# define second vector\n",
        "B = array([3,4])\n",
        "# calculate tensor product\n",
        "C = tensordot(A, B, axes=0)\n",
        "print(C)\n",
        "\n",
        "# It is different multiplying, it does not respect the number of dimensions.\n",
        "D = A * B\n",
        "print(D)\n",
        "\n",
        "#Notice that depending on how we make the product of one or the other the position chagnes\n",
        "\n",
        "F = tensordot(B, A, axes=0)\n",
        "print(F)"
      ],
      "execution_count": 0,
      "outputs": [
        {
          "output_type": "stream",
          "text": [
            "[[3 4]\n",
            " [6 8]]\n",
            "[3 8]\n",
            "[[3 6]\n",
            " [4 8]]\n"
          ],
          "name": "stdout"
        }
      ]
    },
    {
      "metadata": {
        "id": "y7C5As2z_hXB",
        "colab_type": "code",
        "outputId": "6c8b6d14-3151-4ad1-e20c-70fdb014065e",
        "colab": {
          "base_uri": "https://localhost:8080/",
          "height": 34
        }
      },
      "cell_type": "code",
      "source": [
        "A.shape"
      ],
      "execution_count": 0,
      "outputs": [
        {
          "output_type": "execute_result",
          "data": {
            "text/plain": [
              "(2,)"
            ]
          },
          "metadata": {
            "tags": []
          },
          "execution_count": 21
        }
      ]
    },
    {
      "metadata": {
        "id": "N22tpofDAo7Y",
        "colab_type": "code",
        "outputId": "d45a494d-0c95-4db7-e168-39320e40bb35",
        "colab": {
          "base_uri": "https://localhost:8080/",
          "height": 34
        }
      },
      "cell_type": "code",
      "source": [
        "D.shape"
      ],
      "execution_count": 0,
      "outputs": [
        {
          "output_type": "execute_result",
          "data": {
            "text/plain": [
              "(2,)"
            ]
          },
          "metadata": {
            "tags": []
          },
          "execution_count": 20
        }
      ]
    },
    {
      "metadata": {
        "id": "ZtshtxRlSAl9",
        "colab_type": "text"
      },
      "cell_type": "markdown",
      "source": [
        "## LU Decomposition"
      ]
    },
    {
      "metadata": {
        "id": "Jse2MN5sAqzA",
        "colab_type": "code",
        "outputId": "51773a88-a852-4370-c0c6-158441b42158",
        "colab": {
          "base_uri": "https://localhost:8080/",
          "height": 272
        }
      },
      "cell_type": "code",
      "source": [
        "# LU decomposition\n",
        "from numpy import array\n",
        "from scipy.linalg import lu\n",
        "# define a square matrix\n",
        "A = array([\n",
        "  [1, 2, 3],\n",
        "  [4, 5, 6],\n",
        "  [7, 8, 9]])\n",
        "print(A)\n",
        "\n",
        "# factorize\n",
        "P, L, U = lu(A)\n",
        "print(P)\n",
        "print(L)\n",
        "print(U)\n",
        "\n",
        "# reconstruct\n",
        "B = P.dot(L).dot(U)\n",
        "print(B)"
      ],
      "execution_count": 0,
      "outputs": [
        {
          "output_type": "stream",
          "text": [
            "[[1 2 3]\n",
            " [4 5 6]\n",
            " [7 8 9]]\n",
            "[[0. 1. 0.]\n",
            " [0. 0. 1.]\n",
            " [1. 0. 0.]]\n",
            "[[1.         0.         0.        ]\n",
            " [0.14285714 1.         0.        ]\n",
            " [0.57142857 0.5        1.        ]]\n",
            "[[7.         8.         9.        ]\n",
            " [0.         0.85714286 1.71428571]\n",
            " [0.         0.         0.        ]]\n",
            "[[1. 2. 3.]\n",
            " [4. 5. 6.]\n",
            " [7. 8. 9.]]\n"
          ],
          "name": "stdout"
        }
      ]
    },
    {
      "metadata": {
        "id": "zcJ8x2StTbdf",
        "colab_type": "text"
      },
      "cell_type": "markdown",
      "source": [
        "## QR Decomposition\n"
      ]
    },
    {
      "metadata": {
        "id": "kxNDkklJSHud",
        "colab_type": "code",
        "outputId": "95cabae4-3d77-4477-ab9b-85c9f0d1c724",
        "colab": {
          "base_uri": "https://localhost:8080/",
          "height": 221
        }
      },
      "cell_type": "code",
      "source": [
        "# QR decomposition\n",
        "from numpy import array\n",
        "from numpy.linalg import qr\n",
        "# define rectangular matrix\n",
        "A = array([\n",
        "  [1, 2],\n",
        "  [3, 4],\n",
        "  [5, 6]])\n",
        "print(A)\n",
        "# factorize\n",
        "Q, R = qr(A, 'complete')\n",
        "print(Q)\n",
        "print(R)\n",
        "# reconstruct\n",
        "B = Q.dot(R)\n",
        "print(B)"
      ],
      "execution_count": 0,
      "outputs": [
        {
          "output_type": "stream",
          "text": [
            "[[1 2]\n",
            " [3 4]\n",
            " [5 6]]\n",
            "[[-0.16903085  0.89708523  0.40824829]\n",
            " [-0.50709255  0.27602622 -0.81649658]\n",
            " [-0.84515425 -0.34503278  0.40824829]]\n",
            "[[-5.91607978 -7.43735744]\n",
            " [ 0.          0.82807867]\n",
            " [ 0.          0.        ]]\n",
            "[[1. 2.]\n",
            " [3. 4.]\n",
            " [5. 6.]]\n"
          ],
          "name": "stdout"
        }
      ]
    },
    {
      "metadata": {
        "id": "7UrO6PZrUQgx",
        "colab_type": "text"
      },
      "cell_type": "markdown",
      "source": [
        "## Cholesky decomposition"
      ]
    },
    {
      "metadata": {
        "id": "2p_snwu9TeLn",
        "colab_type": "code",
        "outputId": "dba366df-92db-4812-9daa-6db3943568a9",
        "colab": {
          "base_uri": "https://localhost:8080/",
          "height": 119
        }
      },
      "cell_type": "code",
      "source": [
        "# Cholesky decomposition\n",
        "from numpy import array\n",
        "from numpy.linalg import cholesky\n",
        "# define symmetrical matrix\n",
        "A = array([\n",
        "  [2, 1, 1],\n",
        "  [1, 2, 1],\n",
        "  [1, 1, 2]])\n",
        "print(A)\n",
        "# factorize\n",
        "L = cholesky(A)\n",
        "print(L)\n",
        "# reconstruct\n",
        "B = L.dot"
      ],
      "execution_count": 0,
      "outputs": [
        {
          "output_type": "stream",
          "text": [
            "[[2 1 1]\n",
            " [1 2 1]\n",
            " [1 1 2]]\n",
            "[[1.41421356 0.         0.        ]\n",
            " [0.70710678 1.22474487 0.        ]\n",
            " [0.70710678 0.40824829 1.15470054]]\n"
          ],
          "name": "stdout"
        }
      ]
    },
    {
      "metadata": {
        "id": "OeW_WGP3Upuk",
        "colab_type": "text"
      },
      "cell_type": "markdown",
      "source": [
        "## Eigendecomposition"
      ]
    },
    {
      "metadata": {
        "id": "8Osp-pyLUPm5",
        "colab_type": "code",
        "outputId": "8b5c8ce3-3738-4ac0-dabb-1083c3fc3917",
        "colab": {
          "base_uri": "https://localhost:8080/",
          "height": 136
        }
      },
      "cell_type": "code",
      "source": [
        "# eigendecomposition\n",
        "from numpy import array\n",
        "from numpy.linalg import eig\n",
        "# define matrix\n",
        "A = array([\n",
        "  [1, 2, 3],\n",
        "  [4, 5, 6],\n",
        "   [7, 8, 9]])\n",
        "print(A)\n",
        "# factorize\n",
        "values, vectors = eig(A)\n",
        "print(values)\n",
        "print(vectors)"
      ],
      "execution_count": 0,
      "outputs": [
        {
          "output_type": "stream",
          "text": [
            "[[1 2 3]\n",
            " [4 5 6]\n",
            " [7 8 9]]\n",
            "[ 1.61168440e+01 -1.11684397e+00 -1.30367773e-15]\n",
            "[[-0.23197069 -0.78583024  0.40824829]\n",
            " [-0.52532209 -0.08675134 -0.81649658]\n",
            " [-0.8186735   0.61232756  0.40824829]]\n"
          ],
          "name": "stdout"
        }
      ]
    },
    {
      "metadata": {
        "id": "hH6S-yULWxbs",
        "colab_type": "code",
        "outputId": "c6706ae7-4fb3-4914-a468-941703e1f3d6",
        "colab": {
          "base_uri": "https://localhost:8080/",
          "height": 51
        }
      },
      "cell_type": "code",
      "source": [
        "# confirm eigenvector\n",
        "from numpy import array\n",
        "from numpy.linalg import eig\n",
        "# define matrix\n",
        "A = array([\n",
        "  [1, 2, 3],\n",
        "  [4, 5, 6],\n",
        "  [7, 8, 9]])\n",
        "# factorize\n",
        "values, vectors = eig(A)\n",
        "# confirm first eigenvector\n",
        "B = A.dot(vectors[:, 0])\n",
        "print(B)\n",
        "C = vectors[:, 0] * values[0]\n",
        "print(C)"
      ],
      "execution_count": 0,
      "outputs": [
        {
          "output_type": "stream",
          "text": [
            "[ -3.73863537  -8.46653421 -13.19443305]\n",
            "[ -3.73863537  -8.46653421 -13.19443305]\n"
          ],
          "name": "stdout"
        }
      ]
    },
    {
      "metadata": {
        "id": "HMHBJ_f8XjT-",
        "colab_type": "code",
        "outputId": "4f6ba802-7cad-4db6-ff7a-3f2aff4ba643",
        "colab": {
          "base_uri": "https://localhost:8080/",
          "height": 119
        }
      },
      "cell_type": "code",
      "source": [
        "# reconstruct matrix\n",
        "from numpy import diag\n",
        "from numpy.linalg import inv\n",
        "from numpy import array\n",
        "from numpy.linalg import eig\n",
        "# define matrix\n",
        "A = array([\n",
        "  [1, 2, 3],\n",
        "  [4, 5, 6],\n",
        "  [7, 8, 9]])\n",
        "print(A)\n",
        "# factorize\n",
        "values, vectors = eig(A)\n",
        "# create matrix from eigenvectors\n",
        "Q = vectors\n",
        "# create inverse of eigenvectors matrix\n",
        "R = inv(Q)\n",
        "# create diagonal matrix from eigenvalues\n",
        "L = diag(values)\n",
        "# reconstruct the original matrix\n",
        "B = Q.dot(L).dot(R)\n",
        "print(B)"
      ],
      "execution_count": 0,
      "outputs": [
        {
          "output_type": "stream",
          "text": [
            "[[1 2 3]\n",
            " [4 5 6]\n",
            " [7 8 9]]\n",
            "[[1. 2. 3.]\n",
            " [4. 5. 6.]\n",
            " [7. 8. 9.]]\n"
          ],
          "name": "stdout"
        }
      ]
    },
    {
      "metadata": {
        "id": "MizIeeq7acco",
        "colab_type": "text"
      },
      "cell_type": "markdown",
      "source": [
        "## SDV"
      ]
    },
    {
      "metadata": {
        "id": "b8Qz5JzJX15a",
        "colab_type": "code",
        "outputId": "e51ac7c5-33c3-4260-e17f-0d2e33c04624",
        "colab": {
          "base_uri": "https://localhost:8080/",
          "height": 170
        }
      },
      "cell_type": "code",
      "source": [
        "# singular-value decomposition\n",
        "from numpy import array\n",
        "from scipy.linalg import svd\n",
        "# define a matrix\n",
        "A = array([\n",
        "  [1, 2],\n",
        "  [3, 4],\n",
        "  [5, 6]])\n",
        "print(A)\n",
        "# factorize\n",
        "U, s, V = svd(A)\n",
        "print(U)\n",
        "print(s)\n",
        "print(V)"
      ],
      "execution_count": 0,
      "outputs": [
        {
          "output_type": "stream",
          "text": [
            "[[1 2]\n",
            " [3 4]\n",
            " [5 6]]\n",
            "[[-0.2298477   0.88346102  0.40824829]\n",
            " [-0.52474482  0.24078249 -0.81649658]\n",
            " [-0.81964194 -0.40189603  0.40824829]]\n",
            "[9.52551809 0.51430058]\n",
            "[[-0.61962948 -0.78489445]\n",
            " [-0.78489445  0.61962948]]\n"
          ],
          "name": "stdout"
        }
      ]
    },
    {
      "metadata": {
        "id": "EbANWtzPaed1",
        "colab_type": "code",
        "outputId": "2eb504ac-b070-4d56-badd-f63a36699e90",
        "colab": {
          "base_uri": "https://localhost:8080/",
          "height": 119
        }
      },
      "cell_type": "code",
      "source": [
        "# reconstruct rectangular matrix from svd\n",
        "from numpy import array\n",
        "from numpy import diag\n",
        "from numpy import zeros\n",
        "from scipy.linalg import svd\n",
        "# define matrix\n",
        "A = array([\n",
        "  [1, 2],\n",
        "  [3, 4],\n",
        "  [5, 6]])\n",
        "print(A)\n",
        "# factorize\n",
        "U, s, V = svd(A)\n",
        "# create m x n Sigma matrix\n",
        "Sigma = zeros((A.shape[0], A.shape[1]))\n",
        "# populate Sigma with n x n diagonal matrix\n",
        "Sigma[:A.shape[1], :A.shape[1]] = diag(s)\n",
        "# reconstruct matrix\n",
        "B = U.dot(Sigma.dot(V))\n",
        "print(B)"
      ],
      "execution_count": 0,
      "outputs": [
        {
          "output_type": "stream",
          "text": [
            "[[1 2]\n",
            " [3 4]\n",
            " [5 6]]\n",
            "[[1. 2.]\n",
            " [3. 4.]\n",
            " [5. 6.]]\n"
          ],
          "name": "stdout"
        }
      ]
    },
    {
      "metadata": {
        "id": "LxmiZ5ghasYa",
        "colab_type": "code",
        "outputId": "eca961b2-5e73-4dab-80c2-5e2cb3f17389",
        "colab": {
          "base_uri": "https://localhost:8080/",
          "height": 119
        }
      },
      "cell_type": "code",
      "source": [
        "# reconstruct square matrix from svd\n",
        "from numpy import array\n",
        "from numpy import diag\n",
        "from scipy.linalg import svd\n",
        "# define matrix\n",
        "A = array([\n",
        "  [1, 2, 3],\n",
        "  [4, 5, 6],\n",
        "  [7, 8, 9]])\n",
        "print(A)\n",
        "# factorize\n",
        "U, s, V = svd(A)\n",
        "\n",
        "# create n x n Sigma matrix\n",
        "Sigma = diag(s)\n",
        "\n",
        "# reconstruct matrix\n",
        "B = U.dot(Sigma.dot(V))\n",
        "print(B)"
      ],
      "execution_count": 0,
      "outputs": [
        {
          "output_type": "stream",
          "text": [
            "[[1 2 3]\n",
            " [4 5 6]\n",
            " [7 8 9]]\n",
            "[[1. 2. 3.]\n",
            " [4. 5. 6.]\n",
            " [7. 8. 9.]]\n"
          ],
          "name": "stdout"
        }
      ]
    },
    {
      "metadata": {
        "id": "JwSrYMQMKHnY",
        "colab_type": "text"
      },
      "cell_type": "markdown",
      "source": [
        "## pseudoinverse"
      ]
    },
    {
      "metadata": {
        "id": "hX6tt_hLbH4_",
        "colab_type": "code",
        "colab": {
          "base_uri": "https://localhost:8080/",
          "height": 119
        },
        "outputId": "2353a041-c831-4be2-e709-30f737a5a623"
      },
      "cell_type": "code",
      "source": [
        "# pseudoinverse\n",
        "from numpy import array\n",
        "from numpy.linalg import pinv\n",
        "# define matrix\n",
        "A = array([\n",
        "  [0.1, 0.2],\n",
        "  [0.3, 0.4],\n",
        "  [0.5, 0.6],\n",
        "  [0.7, 0.8]])\n",
        "print(A)\n",
        "# calculate pseudoinverse\n",
        "B = pinv(A)\n",
        "print(B)"
      ],
      "execution_count": 1,
      "outputs": [
        {
          "output_type": "stream",
          "text": [
            "[[0.1 0.2]\n",
            " [0.3 0.4]\n",
            " [0.5 0.6]\n",
            " [0.7 0.8]]\n",
            "[[-1.00000000e+01 -5.00000000e+00  1.42385628e-14  5.00000000e+00]\n",
            " [ 8.50000000e+00  4.50000000e+00  5.00000000e-01 -3.50000000e+00]]\n"
          ],
          "name": "stdout"
        }
      ]
    },
    {
      "metadata": {
        "id": "UnQCtKYlKOlO",
        "colab_type": "text"
      },
      "cell_type": "markdown",
      "source": [
        "## Dimensionality Reduction"
      ]
    },
    {
      "metadata": {
        "id": "fEUXMfVZKKo3",
        "colab_type": "code",
        "colab": {
          "base_uri": "https://localhost:8080/",
          "height": 221
        },
        "outputId": "a915b150-e5ea-42e2-fc91-29626c93994e"
      },
      "cell_type": "code",
      "source": [
        "# data reduction with svd\n",
        "from numpy import array\n",
        "from numpy import diag\n",
        "from numpy import zeros\n",
        "from scipy.linalg import svd\n",
        "# define matrix\n",
        "A = array([\n",
        "  [1,2,3,4,5,6,7,8,9,10],\n",
        "  [11,12,13,14,15,16,17,18,19,20],\n",
        "  [21,22,23,24,25,26,27,28,29,30]])\n",
        "print(A)\n",
        "# factorize\n",
        "U, s, V = svd(A)\n",
        "# create m x n Sigma matrix\n",
        "Sigma = zeros((A.shape[0], A.shape[1]))\n",
        "# populate Sigma with n x n diagonal matrix\n",
        "Sigma[:A.shape[0], :A.shape[0]] = diag(s)\n",
        "# select\n",
        "n_elements = 2\n",
        "Sigma = Sigma[:, :n_elements]\n",
        "V = V[:n_elements, :]\n",
        "# reconstruct\n",
        "B = U.dot(Sigma.dot(V))\n",
        "print(B)\n",
        "# transform\n",
        "T = U.dot(Sigma)\n",
        "print(T)\n",
        "T = A.dot(V.T)\n",
        "print(T)"
      ],
      "execution_count": 2,
      "outputs": [
        {
          "output_type": "stream",
          "text": [
            "[[ 1  2  3  4  5  6  7  8  9 10]\n",
            " [11 12 13 14 15 16 17 18 19 20]\n",
            " [21 22 23 24 25 26 27 28 29 30]]\n",
            "[[ 1.  2.  3.  4.  5.  6.  7.  8.  9. 10.]\n",
            " [11. 12. 13. 14. 15. 16. 17. 18. 19. 20.]\n",
            " [21. 22. 23. 24. 25. 26. 27. 28. 29. 30.]]\n",
            "[[-18.52157747   6.47697214]\n",
            " [-49.81310011   1.91182038]\n",
            " [-81.10462276  -2.65333138]]\n",
            "[[-18.52157747   6.47697214]\n",
            " [-49.81310011   1.91182038]\n",
            " [-81.10462276  -2.65333138]]\n"
          ],
          "name": "stdout"
        }
      ]
    },
    {
      "metadata": {
        "id": "Lb-OmKBtKsPb",
        "colab_type": "code",
        "colab": {
          "base_uri": "https://localhost:8080/",
          "height": 119
        },
        "outputId": "d97409ca-43f4-474e-f8ea-eb959324d591"
      },
      "cell_type": "code",
      "source": [
        "# svd data reduction in scikit-learn\n",
        "from numpy import array\n",
        "from sklearn.decomposition import TruncatedSVD\n",
        "# define matrix\n",
        "A = array([\n",
        "  [1,2,3,4,5,6,7,8,9,10],\n",
        "  [11,12,13,14,15,16,17,18,19,20],\n",
        "  [21,22,23,24,25,26,27,28,29,30]])\n",
        "print(A)\n",
        "# create transform\n",
        "svd = TruncatedSVD(n_components=2)\n",
        "# fit transform\n",
        "svd.fit(A)\n",
        "# apply transform\n",
        "result = svd.transform(A)\n",
        "print(result)"
      ],
      "execution_count": 3,
      "outputs": [
        {
          "output_type": "stream",
          "text": [
            "[[ 1  2  3  4  5  6  7  8  9 10]\n",
            " [11 12 13 14 15 16 17 18 19 20]\n",
            " [21 22 23 24 25 26 27 28 29 30]]\n",
            "[[18.52157747  6.47697214]\n",
            " [49.81310011  1.91182038]\n",
            " [81.10462276 -2.65333138]]\n"
          ],
          "name": "stdout"
        }
      ]
    },
    {
      "metadata": {
        "id": "Lx5-6YoDK0YJ",
        "colab_type": "code",
        "colab": {}
      },
      "cell_type": "code",
      "source": [
        ""
      ],
      "execution_count": 0,
      "outputs": []
    }
  ]
}